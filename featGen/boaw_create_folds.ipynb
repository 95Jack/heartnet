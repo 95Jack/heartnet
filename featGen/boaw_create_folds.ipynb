{
 "cells": [
  {
   "cell_type": "code",
   "execution_count": 36,
   "metadata": {},
   "outputs": [],
   "source": [
    "from __future__ import division, absolute_import, print_function\n",
    "import pandas as pd\n",
    "import os\n",
    "from collections import Counter"
   ]
  },
  {
   "cell_type": "code",
   "execution_count": 65,
   "metadata": {},
   "outputs": [],
   "source": [
    "mfcc_path = 'mfcc.csv'\n",
    "target_path = os.path.join('..','..','feature','mfcc')\n",
    "fold_def = os.path.join('..','..','feature','segmented_noFIR')\n",
    "labels_path = 'labels.csv'"
   ]
  },
  {
   "cell_type": "code",
   "execution_count": 9,
   "metadata": {},
   "outputs": [],
   "source": [
    "if not os.path.isdir(target_path):\n",
    "    os.mkdir(target_path)"
   ]
  },
  {
   "cell_type": "code",
   "execution_count": 17,
   "metadata": {},
   "outputs": [],
   "source": [
    "data_all = pd.read_csv(mfcc_path,header=None,delimiter=';')\n",
    "mask = [not each[-1][0] == '0' for each in data_all[0].str.split('_')]\n",
    "data_all = data_all[mask]\n",
    "labels = pd.read_csv(labels_path,delimiter=';')"
   ]
  },
  {
   "cell_type": "code",
   "execution_count": 87,
   "metadata": {},
   "outputs": [],
   "source": [
    "for foldnum in range(1,4):\n",
    "    \n",
    "    ### Load fold definition\n",
    "    \n",
    "    fold_path = os.path.join(fold_def,\"validation%d.txt\" % foldnum)\n",
    "    df = pd.read_csv(fold_path,header=None)\n",
    "    df[0] = ['train_'+each for each in df[0]]\n",
    "    df.columns = ['filenames']\n",
    "    df.set_index('filenames',drop=True,inplace=True)\n",
    "    \n",
    "    ### Create fold mfcc.csv\n",
    "    \n",
    "    files = data_all[0]\n",
    "    mask1 = [each in df.index.values for each in files]\n",
    "    mask2 = [not each for each in mask1]\n",
    "    data_all[mask2].to_csv(os.path.join(target_path,\n",
    "                                        'fold%d.train.mfcc.csv' % foldnum),\n",
    "                           sep=';',header=None, index=False)\n",
    "    data_all[mask1].to_csv(os.path.join(target_path,\n",
    "                                        \"fold%d.dev.mfcc.csv\" % foldnum),\n",
    "                           sep=';',header=None, index=False)\n",
    "        \n",
    "    ## Create fold filenames.txt\n",
    "    \n",
    "    files[mask2].drop_duplicates().to_csv(os.path.join(target_path,\n",
    "                            \"fold%d.train.filenames.txt\" % foldnum),\n",
    "                sep=';',header=None, index=False)\n",
    "    \n",
    "    files[mask1].drop_duplicates().to_csv(os.path.join(target_path,\n",
    "                            \"fold%d.dev.filenames.txt\" % foldnum),\n",
    "                sep=';',header=None, index=False)\n",
    "    \n",
    "    ## Create fold label.csv\n",
    "    \n",
    "    temp = labels.set_index('name',drop=True).drop(files[mask1].values,axis=\"index\")\n",
    "    temp.to_csv(os.path.join(target_path,\n",
    "                            \"fold%d.train.labels.csv\" % foldnum),\n",
    "                sep=';')\n",
    "    \n",
    "    temp = labels.set_index('name',drop=True).drop(files[mask2].values,axis=\"index\")\n",
    "    temp.to_csv(os.path.join(target_path,\n",
    "                            \"fold%d.dev.labels.csv\" % foldnum),\n",
    "                sep=';')\n",
    "    "
   ]
  }
 ],
 "metadata": {
  "kernelspec": {
   "display_name": "Python 2",
   "language": "python",
   "name": "python2"
  },
  "language_info": {
   "codemirror_mode": {
    "name": "ipython",
    "version": 2
   },
   "file_extension": ".py",
   "mimetype": "text/x-python",
   "name": "python",
   "nbconvert_exporter": "python",
   "pygments_lexer": "ipython2",
   "version": "2.7.12"
  }
 },
 "nbformat": 4,
 "nbformat_minor": 2
}
