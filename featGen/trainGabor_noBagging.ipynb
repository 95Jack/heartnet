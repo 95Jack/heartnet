{
 "cells": [
  {
   "cell_type": "code",
   "execution_count": 1,
   "metadata": {},
   "outputs": [],
   "source": [
    "from __future__ import absolute_import, division, print_function\n",
    "import os\n",
    "from scipy.io import loadmat\n",
    "import arff\n",
    "import numpy as np\n",
    "import pandas as pd\n",
    "\n",
    "from sklearn.model_selection import GridSearchCV\n",
    "from sklearn.model_selection import train_test_split\n",
    "from sklearn.metrics import accuracy_score, confusion_matrix, roc_auc_score, roc_curve\n",
    "from sklearn.preprocessing import StandardScaler\n",
    "from sklearn.externals import joblib\n",
    "\n",
    "\n",
    "from sklearn.svm import NuSVC, SVC\n",
    "from sklearn.svm import libsvm\n",
    "from imblearn.ensemble import BalancedBaggingClassifier\n",
    "from imblearn.ensemble import RUSBoostClassifier\n",
    "from imblearn.under_sampling import RandomUnderSampler\n",
    "from imblearn.over_sampling import RandomOverSampler\n",
    "\n",
    "from matplotlib import pyplot as plt\n",
    "import seaborn as sns\n",
    "sns.set()\n",
    "\n",
    "from collections import Counter"
   ]
  },
  {
   "cell_type": "markdown",
   "metadata": {},
   "source": [
    "## Feature Paths"
   ]
  },
  {
   "cell_type": "code",
   "execution_count": 2,
   "metadata": {},
   "outputs": [],
   "source": [
    "FBANK_feat = os.path.join('FBANK','binnedFeat.mat')\n",
    "FBANK_label = os.path.join('FBANK','binnedLabels.csv')\n",
    "ComParE_feat = os.path.join('baseline','openSMILEall_PCG.mat')\n",
    "BOAW_feat = os.path.join('baseline_boaw','feat','boawFeat.4096.arff')\n",
    "BOAW_meta = os.path.join('baseline_boaw','feat','BOAW_filenames.txt')"
   ]
  },
  {
   "cell_type": "code",
   "execution_count": 3,
   "metadata": {},
   "outputs": [],
   "source": [
    "def severe2abnormal(labels):\n",
    "    for idx,each in enumerate(labels):\n",
    "        if each == 2:\n",
    "            labels[idx]=1\n",
    "    return labels"
   ]
  },
  {
   "cell_type": "markdown",
   "metadata": {},
   "source": [
    "## Data Loading"
   ]
  },
  {
   "cell_type": "code",
   "execution_count": 4,
   "metadata": {},
   "outputs": [
    {
     "name": "stdout",
     "output_type": "stream",
     "text": [
      "baseline_boaw/feat/fold0.train.4096.arff\n",
      "True\n",
      "baseline_boaw/feat/fold0.dev.4096.arff\n",
      "True\n",
      "baseline_boaw/feat/interspeech.4096.arff\n",
      "True\n"
     ]
    }
   ],
   "source": [
    "## Load BoaW fixed\n",
    "\n",
    "foldnum = 0\n",
    "codebook = 4096\n",
    "feat_path = os.path.join('baseline_boaw/feat/')\n",
    "meta_path = os.path.join('..','..','feature','mfcc')\n",
    "\n",
    "\n",
    "scaler = StandardScaler()\n",
    "\n",
    "X = []\n",
    "y = []\n",
    "filenames = []\n",
    "\n",
    "for subset in ['train','dev']:\n",
    "    BOAW_feat = os.path.join(feat_path,\n",
    "                             'fold%d.%s.%d.arff' % (foldnum,subset,codebook))\n",
    "    BOAW_meta = os.path.join(meta_path,'fold%d.%s.filenames.txt' % (foldnum,subset))\n",
    "    print(BOAW_feat)\n",
    "    print(os.path.isfile(BOAW_meta))\n",
    "    \n",
    "    df = arff.load(open(BOAW_feat,'r'))\n",
    "    boawData = pd.DataFrame(np.array(df['data'],dtype=float))\n",
    "    del df\n",
    "\n",
    "    boawFilenames = []\n",
    "    with open(BOAW_meta, 'r') as fp:\n",
    "        line = fp.readline()\n",
    "        boawFilenames.append(line.split('\\n')[0])\n",
    "        while line:\n",
    "                line = fp.readline()\n",
    "                boawFilenames.append(line.split('\\n')[0])\n",
    "    boawFilenames = boawFilenames[:-1]\n",
    "    boawData['filenames'] = boawFilenames\n",
    "    boawData.rename({len(boawData.columns)-2:'label'},axis='columns',inplace=True)\n",
    "    boawData.label = [int(each) for each in boawData.label]\n",
    "    boawData['dataset'] = [each[-1][0] for each in boawData.filenames.str.split('_')]\n",
    "    boawData.set_index('filenames',drop=True,inplace=True)\n",
    "    \n",
    "    filenames.append(boawFilenames)\n",
    "    del boawFilenames\n",
    "    \n",
    "    X.append(boawData[range(4096)].values)\n",
    "    y.append(boawData.label.values)\n",
    "    \n",
    "    del boawData\n",
    "    \n",
    "    \n",
    "## Append INTERSPEECH with fold1 codebook\n",
    "\n",
    "BOAW_feat = os.path.join(feat_path,\n",
    "                         'interspeech.%d.arff' % (codebook))\n",
    "BOAW_meta = os.path.join(meta_path,'interspeech.filenames.txt')\n",
    "print(BOAW_feat)\n",
    "print(os.path.isfile(BOAW_feat))\n",
    "\n",
    "df = arff.load(open(BOAW_feat,'r'))\n",
    "boawData = pd.DataFrame(np.array(df['data'],dtype=float))\n",
    "del df\n",
    "\n",
    "boawFilenames = []\n",
    "with open(BOAW_meta, 'r') as fp:\n",
    "    line = fp.readline()\n",
    "    boawFilenames.append(line.split('\\n')[0])\n",
    "    while line:\n",
    "            line = fp.readline()\n",
    "            boawFilenames.append(line.split('\\n')[0])\n",
    "boawFilenames = boawFilenames[:-1]\n",
    "boawData['filenames'] = boawFilenames\n",
    "boawData.rename({len(boawData.columns)-2:'label'},axis='columns',inplace=True)\n",
    "boawData.label = [int(each) for each in boawData.label]\n",
    "boawData['dataset'] = [each[-1][0] for each in boawData.filenames.str.split('_')]\n",
    "boawData.set_index('filenames',drop=True,inplace=True)\n",
    "\n",
    "filenames.append(boawFilenames)\n",
    "del boawFilenames\n",
    "\n",
    "X.append(boawData[range(4096)].values)\n",
    "y.append(boawData.label.values)\n",
    "\n",
    "del boawData\n",
    "\n",
    "    \n",
    "X = np.vstack(X)\n",
    "y = np.hstack(y)\n",
    "filenames = np.hstack(filenames)\n",
    "\n",
    "boawData = pd.DataFrame(X)\n",
    "boawData['filenames'] = filenames\n",
    "boawData['label'] = y\n",
    "boawData.set_index('filenames',drop=True,inplace=True)\n",
    "boawData['dataset'] = [each[-1][0] for each in boawData.index.str.split('_')]\n",
    "\n",
    "\n",
    "del X,y"
   ]
  },
  {
   "cell_type": "code",
   "execution_count": 5,
   "metadata": {},
   "outputs": [
    {
     "data": {
      "text/plain": [
       "(3835, 2709)"
      ]
     },
     "execution_count": 5,
     "metadata": {},
     "output_type": "execute_result"
    }
   ],
   "source": [
    "## Load FBANK: \n",
    "\n",
    "df = loadmat(FBANK_feat)\n",
    "fbankData = pd.DataFrame(df['feats'])\n",
    "fbankMeta = pd.read_csv(FBANK_label)\n",
    "fbankMeta.file_name = [each[0] for each in fbankMeta.file_name.str.split('.')]\n",
    "fbankData = fbankData.join(fbankMeta)\n",
    "fbankData.dropna(inplace=True)\n",
    "fbankData.rename({'file_name':'filenames'},axis=\"columns\",inplace=True)\n",
    "fbankData.label = [int(each) for each in fbankData.label]\n",
    "fbankData['dataset'] = [each[-1][0] for each in fbankData.filenames.str.split('_')]\n",
    "fbankData.set_index('filenames',drop=True,inplace=True)\n",
    "\n",
    "del df, fbankMeta\n",
    "\n",
    "fbankData.shape"
   ]
  },
  {
   "cell_type": "code",
   "execution_count": 6,
   "metadata": {
    "scrolled": true
   },
   "outputs": [
    {
     "data": {
      "text/plain": [
       "(3835, 6375)"
      ]
     },
     "execution_count": 6,
     "metadata": {},
     "output_type": "execute_result"
    }
   ],
   "source": [
    "## Load ComParE:\n",
    "\n",
    "df = loadmat(ComParE_feat)\n",
    "\n",
    "compareData = pd.DataFrame(df['dataTrain'])\n",
    "compareData = pd.concat((compareData,pd.DataFrame(df['dataDev'])),axis=\"rows\").reset_index(drop=True)\n",
    "compareData['label'] = np.concatenate((np.hstack(df['TrainLabels']),np.hstack(df['DevLabels'])),axis=0)\n",
    "compareData['filenames'] = np.concatenate((np.hstack(df['TrainFiles']),np.hstack(df['DevFiles'])),axis=0)\n",
    "compareData.filenames = [each[0] for each in compareData.filenames.str.split('.')]\n",
    "compareData.label = [int(each) for each in compareData.label]\n",
    "compareData['dataset'] = [each[-1][0] for each in compareData.filenames.str.split('_')]\n",
    "compareData.set_index('filenames',drop=True,inplace=True)\n",
    "\n",
    "del df\n",
    "\n",
    "compareData.shape"
   ]
  },
  {
   "cell_type": "code",
   "execution_count": 7,
   "metadata": {},
   "outputs": [
    {
     "name": "stdout",
     "output_type": "stream",
     "text": [
      "Target Size 13178\n"
     ]
    },
    {
     "data": {
      "text/plain": [
       "(3835, 13178)"
      ]
     },
     "execution_count": 7,
     "metadata": {},
     "output_type": "execute_result"
    }
   ],
   "source": [
    "## Fuse dataframes\n",
    "\n",
    "print(\"Target Size %d\" % (len(boawData.columns)-2+len(fbankData.columns)-2+len(compareData.columns)))\n",
    "fused = boawData[range(len(boawData.columns)-2)].join(fbankData[range(len(fbankData.columns)-2)],rsuffix='fbank')\n",
    "fused = fused.join(compareData,lsuffix='fused')\n",
    "fused.dropna()\n",
    "fused.columns = range(len(fused.columns))\n",
    "fused.rename({len(fused.columns)-2:'label',len(fused.columns)-1:'dataset'},axis=\"columns\",inplace=True)\n",
    "\n",
    "del boawData, fbankData, compareData\n",
    "\n",
    "fused.shape"
   ]
  },
  {
   "cell_type": "markdown",
   "metadata": {},
   "source": [
    "### Random Validation Split"
   ]
  },
  {
   "cell_type": "code",
   "execution_count": null,
   "metadata": {},
   "outputs": [],
   "source": [
    "rand_state = 114\n",
    "n_estimators = 10\n",
    "dataset = '0'\n",
    "\n",
    "scaler = StandardScaler()\n",
    "mask = fused.dataset == dataset\n",
    "\n",
    "X = scaler.fit_transform(fused[range(len(fused.columns)-2)][mask]) ## .4489999\n",
    "y = fused.label[mask]\n",
    "\n",
    "X_train, X_val, y_train, y_val = train_test_split(X, y,\n",
    "                                                  test_size = 0.3,\n",
    "                                                  random_state = rand_state,\n",
    "                                                  shuffle = True)"
   ]
  },
  {
   "cell_type": "markdown",
   "metadata": {},
   "source": [
    "### Dev set of Compare"
   ]
  },
  {
   "cell_type": "code",
   "execution_count": null,
   "metadata": {},
   "outputs": [],
   "source": [
    "rand_state = 1\n",
    "dataset = '0'\n",
    "\n",
    "scaler = StandardScaler()\n",
    "mask1 = fused.dataset == dataset\n",
    "mask2 = fused[mask1].index.str.contains('train')\n",
    "mask3 = fused[mask1].index.str.contains('devel')\n",
    "\n",
    "X = scaler.fit_transform(fused[range(len(fused.columns)-2)][mask1]) ## .4489999\n",
    "y = fused.label[mask1]\n",
    "\n",
    "X_train = X[mask2]\n",
    "y_train = y[mask2]\n",
    "X_val = X[mask3]\n",
    "y_val = y[mask3]\n",
    "\n",
    "del mask1, mask2, mask3, X, y"
   ]
  },
  {
   "cell_type": "markdown",
   "metadata": {},
   "source": [
    "### Fold1_noFIR"
   ]
  },
  {
   "cell_type": "code",
   "execution_count": null,
   "metadata": {},
   "outputs": [],
   "source": [
    "rand_state = 114\n",
    "n_estimators = 5\n",
    "scaler = StandardScaler()\n",
    "\n",
    "fold1_val = '/media/taufiq/Data1/heart_sound/feature/segmented_noFIR/validation1.txt'\n",
    "df = pd.read_csv(fold1_val,header=None)\n",
    "df[0] = ['train_'+each for each in df[0]]\n",
    "df.columns = ['filenames']\n",
    "df.set_index('filenames',drop=True,inplace=True)\n",
    "mask = fused.dataset == '0'\n",
    "fold1_data = fused[~mask]\n",
    "\n",
    "mask1 = [each in df.index.values for each in fold1_data.index.values]\n",
    "mask2 = [not each for each in mask1]\n",
    "X = scaler.fit_transform(fold1_data[range(len(fold1_data.columns)-2)])\n",
    "y = fold1_data.label\n",
    "files = np.asarray([each.split('_')[1][0] for each in fold1_data.index.values])\n",
    "del fold1_data\n",
    "\n",
    "X_train = scaler.fit_transform(X[mask2])\n",
    "# X_train = np.asarray(X[mask2].values)\n",
    "y_train = y[mask2]\n",
    "train_files = files[mask2]\n",
    "X_val = scaler.transform(X[mask1])\n",
    "# X_val = np.asarray(X[mask1].values)\n",
    "y_val = y[mask1]\n",
    "val_files = files[mask1]\n",
    "\n",
    "del mask, mask1, mask2, X, y, files"
   ]
  },
  {
   "cell_type": "markdown",
   "metadata": {},
   "source": [
    "### Fold2_noFIR"
   ]
  },
  {
   "cell_type": "code",
   "execution_count": null,
   "metadata": {},
   "outputs": [],
   "source": [
    "rand_state = 1\n",
    "n_estimators = 5\n",
    "\n",
    "fold1_val = '/media/taufiq/Data1/heart_sound/feature/segmented_noFIR/validation2.txt'\n",
    "df = pd.read_csv(fold1_val,header=None)\n",
    "df[0] = ['train_'+each for each in df[0]]\n",
    "df.columns = ['filenames']\n",
    "df.set_index('filenames',drop=True,inplace=True)\n",
    "mask = fused.dataset == '0'\n",
    "fold1_data = fused[~mask]\n",
    "\n",
    "mask1 = [each in df.index.values for each in fold1_data.index.values]\n",
    "mask2 = [not each for each in mask1]\n",
    "X = scaler.fit_transform(fold1_data[range(len(fold1_data.columns)-2)])\n",
    "y = fold1_data.label\n",
    "files = np.asarray([each.split('_')[1][0] for each in fold1_data.index.values])\n",
    "del fold1_data\n",
    "\n",
    "X_train = scaler.fit_transform(X[mask2])\n",
    "# X_train = np.asarray(X[mask2].values)\n",
    "y_train = y[mask2]\n",
    "train_files = files[mask2]\n",
    "X_val = scaler.transform(X[mask1])\n",
    "# X_val = np.asarray(X[mask1].values)\n",
    "y_val = y[mask1]\n",
    "val_files = files[mask1]\n",
    "\n",
    "del mask, mask1, mask2, X, y, files"
   ]
  },
  {
   "cell_type": "markdown",
   "metadata": {},
   "source": [
    "### Fold3_noFIR"
   ]
  },
  {
   "cell_type": "code",
   "execution_count": null,
   "metadata": {},
   "outputs": [],
   "source": [
    "rand_state = 1\n",
    "n_estimators = 5\n",
    "\n",
    "fold1_val = '/media/taufiq/Data1/heart_sound/feature/segmented_noFIR/validation3.txt'\n",
    "df = pd.read_csv(fold1_val,header=None)\n",
    "df[0] = ['train_'+each for each in df[0]]\n",
    "df.columns = ['filenames']\n",
    "df.set_index('filenames',drop=True,inplace=True)\n",
    "mask = fused.dataset == '0'\n",
    "fold1_data = fused[~mask]\n",
    "\n",
    "mask1 = [each in df.index.values for each in fold1_data.index.values]\n",
    "mask2 = [not each for each in mask1]\n",
    "X = scaler.fit_transform(fold1_data[range(len(fold1_data.columns)-2)])\n",
    "y = fold1_data.label\n",
    "files = np.asarray([each.split('_')[1][0] for each in fold1_data.index.values])\n",
    "del fold1_data\n",
    "\n",
    "X_train = scaler.fit_transform(X[mask2])\n",
    "# X_train = np.asarray(X[mask2].values)\n",
    "y_train = y[mask2]\n",
    "train_files = files[mask2]\n",
    "X_val = scaler.transform(X[mask1])\n",
    "# X_val = np.asarray(X[mask1].values)\n",
    "y_val = y[mask1]\n",
    "val_files = files[mask1]\n",
    "\n",
    "del mask, mask1, mask2, X, y, files"
   ]
  },
  {
   "cell_type": "markdown",
   "metadata": {},
   "source": [
    "### Fold0_noFIR"
   ]
  },
  {
   "cell_type": "code",
   "execution_count": 11,
   "metadata": {},
   "outputs": [],
   "source": [
    "rand_state = 1\n",
    "\n",
    "fold1_val = '/media/taufiq/Data1/heart_sound/feature/segmented_noFIR/validation0.txt'\n",
    "df = pd.read_csv(fold1_val,header=None)\n",
    "df[0] = ['train_'+each for each in df[0]]\n",
    "df.columns = ['filenames']\n",
    "df.set_index('filenames',drop=True,inplace=True)\n",
    "mask = fused.dataset == '0'\n",
    "fold1_data = fused[~mask]\n",
    "\n",
    "mask1 = [each in df.index.values for each in fold1_data.index.values]\n",
    "mask2 = [not each for each in mask1]\n",
    "X = scaler.fit_transform(fold1_data[range(len(fold1_data.columns)-2)])\n",
    "y = fold1_data.label\n",
    "files = np.asarray([each.split('_')[1][0] for each in fold1_data.index.values])\n",
    "del fold1_data\n",
    "\n",
    "X_train = scaler.fit_transform(X[mask2])\n",
    "# X_train = np.asarray(X[mask2].values)\n",
    "y_train = y[mask2]\n",
    "train_files = files[mask2]\n",
    "X_val = scaler.transform(X[mask1])\n",
    "# X_val = np.asarray(X[mask1].values)\n",
    "y_val = y[mask1]\n",
    "val_files = files[mask1]\n",
    "\n",
    "del mask, mask1, mask2, X, y, files"
   ]
  },
  {
   "cell_type": "markdown",
   "metadata": {},
   "source": [
    "## Fold0 with INTERSPEECH Test"
   ]
  },
  {
   "cell_type": "code",
   "execution_count": 14,
   "metadata": {},
   "outputs": [],
   "source": [
    "rand_state = 114\n",
    "scaler = StandardScaler()\n",
    "\n",
    "fold1_val = '/media/taufiq/Data1/heart_sound/feature/segmented_noFIR/validation0.txt'\n",
    "df = pd.read_csv(fold1_val,header=None)\n",
    "df[0] = ['train_'+each for each in df[0]]\n",
    "df.columns = ['filenames']\n",
    "df.set_index('filenames',drop=True,inplace=True)\n",
    "mask = fused.dataset == '0'\n",
    "fold1_data = fused[~mask]\n",
    "\n",
    "mask1 = [each in df.index.values for each in fold1_data.index.values]\n",
    "mask2 = [not each for each in mask1]\n",
    "X = fold1_data[range(len(fold1_data.columns)-2)]\n",
    "y = fold1_data.label\n",
    "files = np.asarray([each.split('_')[1][0] for each in fold1_data.index.values])\n",
    "del fold1_data\n",
    "\n",
    "X_train = scaler.fit_transform(X[mask2])\n",
    "y_train = y[mask2]\n",
    "# X_val = scaler.transform(X[mask1])\n",
    "# y_val = y[mask1]\n",
    "train_files = files[mask2]\n",
    "del mask1, mask2, X, y\n",
    "\n",
    "fold1_data = fused[mask]\n",
    "X = fold1_data[range(len(fold1_data.columns)-2)]\n",
    "y = fold1_data.label\n",
    "val_files = np.asarray([each.split('_')[1][0] for each in fold1_data.index.values])\n",
    "del fold1_data\n",
    "\n",
    "X_val = scaler.transform(X)\n",
    "y_val = y\n",
    "y_val = severe2abnormal(y_val.values)"
   ]
  },
  {
   "cell_type": "code",
   "execution_count": 115,
   "metadata": {},
   "outputs": [],
   "source": [
    "idx = [  0,   1,   4,   5,   6,   7,   8,  10,  13,  14,  22,  29,  31,\n",
    "        32,  34,  38,  39,  40,  42,  45,  49,  50,  52,  53,  54,  55,\n",
    "        56,  57,  58,  61,  64,  66,  68,  76,  79,  82,  84,  85,  87,\n",
    "        88,  89,  90,  91,  92, 108, 113, 115, 119, 125, 128, 133, 134,\n",
    "       138, 146, 147, 148, 149, 155, 157, 163, 166, 173, 179, 181, 187,\n",
    "       189, 192, 195, 196, 197, 200, 207, 208, 216, 219, 222, 224, 225,\n",
    "       230, 231, 240, 244, 250, 253, 257, 258, 262, 263, 266, 268, 270,\n",
    "       272, 274, 276, 280, 281, 282, 283, 284, 285, 288, 294, 297, 299,\n",
    "       301, 304, 307, 312, 313, 315, 323, 326, 327, 331, 334, 337, 340,\n",
    "       345, 346, 347, 349, 351, 354, 356, 358, 371, 372, 373, 375, 376,\n",
    "       379, 380, 383, 385, 388, 390, 391, 394, 399, 402, 404, 406, 408,\n",
    "       412, 417, 418, 422, 423, 425, 428, 432, 433, 443, 451, 453, 456,\n",
    "       457, 458, 459, 461, 466, 467, 470, 471, 473, 477, 478, 480, 490,\n",
    "       492, 493, 496, 499, 502, 503, 506, 507, 511, 513, 516, 518, 523,\n",
    "       525, 526, 535, 538, 542, 543, 544, 545, 551, 559, 569, 573, 575,\n",
    "       577, 578, 579, 581, 584, 590, 595, 601, 609, 610, 611, 614, 615,\n",
    "       619, 625, 627, 630, 634, 635, 637, 639, 642, 645, 647, 648, 653,\n",
    "       654, 657, 661, 663, 666, 667, 669, 672, 675, 676, 679]"
   ]
  },
  {
   "cell_type": "code",
   "execution_count": 116,
   "metadata": {},
   "outputs": [],
   "source": [
    "# rus = RandomUnderSampler(random_state=1,return_indices=True)\n",
    "# X_val,y_val,idx = rus.fit_resample(X_val,y_val)\n",
    "X_val = X_val[idx]\n",
    "y_val = y_val[idx]\n",
    "val_files = val_files[idx]"
   ]
  },
  {
   "cell_type": "code",
   "execution_count": 9,
   "metadata": {},
   "outputs": [],
   "source": [
    "def eerPred(true,pred,verbose=1):\n",
    "    if pred.ndim > 1:\n",
    "            pred = pred[:,-1]\n",
    "    fpr,tpr,thresh = roc_curve(true,pred)\n",
    "    diff = abs(tpr-(1-fpr))\n",
    "    pred = pred > thresh[np.where(diff == min(diff))[0]]\n",
    "    if verbose:\n",
    "        print('Threshold selected as %f'%thresh[np.where(diff == min(diff))[0]])\n",
    "    return pred"
   ]
  },
  {
   "cell_type": "code",
   "execution_count": 10,
   "metadata": {},
   "outputs": [],
   "source": [
    "def verboseMetrics(y_val,softScores,files=None,verbose=True,thresh=.5):\n",
    "    eps = 1.1e-5\n",
    "    if Counter(y_val).keys()[-1] == 1:\n",
    "        if thresh == 'EER':\n",
    "            TN, FP, FN, TP = confusion_matrix(y_val, eerPred(y_val,softScores), labels=[0,1]).ravel()\n",
    "        else:\n",
    "            TN, FP, FN, TP = confusion_matrix(y_val, softScores[:,1]>thresh, labels=[0,1]).ravel()\n",
    "        sensitivity = TP / (TP + FN + eps)\n",
    "        specificity = TN / (TN + FP + eps)\n",
    "        precision = TP / (TP + FP + eps)\n",
    "        F1 = 2 * (precision * sensitivity) / (precision + sensitivity + eps)\n",
    "        Macc = (sensitivity + specificity) / 2\n",
    "        MCC = (TP*TN-FP*FN)/((TP+FP)*(FN+TN)*(FP+TN)*(TP+FN))**.5\n",
    "        auc = roc_auc_score(y_val,softScores[:,1])\n",
    "        if verbose:\n",
    "            print(\"TN:{},FP:{},FN:{},TP:{},Sensitivity:{},Specificity{},Macc:{},F1:{},AUC:{},MCC:{}\".format(TN, FP, FN, TP,sensitivity,specificity,Macc,F1,auc,MCC))\n",
    "        \n",
    "        if files is not None:\n",
    "            logs = dict()\n",
    "            true = np.asarray(y_val)\n",
    "            if thresh == 'EER':\n",
    "                pred = np.asarray(eerPred(y_val,softScores))\n",
    "            else:\n",
    "                pred = np.asarray(softScores[:,1]>thresh)\n",
    "            files = np.asarray(files)\n",
    "            tpn = true == pred\n",
    "            for dataset in set(files):\n",
    "                mask = files == dataset\n",
    "                logs['acc_'+dataset] = np.sum(tpn[mask])/np.sum(mask)\n",
    "            if verbose:\n",
    "                print(logs.items())\n",
    "            \n",
    "        return Macc\n",
    "    elif Counter(y_val).keys()[-1] == 2:\n",
    "        logs = dict()\n",
    "        confmat = confusion_matrix(y_pred=np.argmax(softScores,axis=-1), y_true=y_val)\n",
    "        logs['recall0'] = confmat[0, 0] / np.sum(confmat[0, :])\n",
    "        logs['recall1'] = confmat[1, 1] / np.sum(confmat[1, :])\n",
    "        logs['recall2'] = confmat[2, 2] / np.sum(confmat[2, :])\n",
    "        logs['UAR'] = np.mean([logs['recall0'], logs['recall1'], logs['recall2']])\n",
    "        \n",
    "    if files is not None:\n",
    "        true = np.asarray(y_val)\n",
    "        pred = np.asarray(np.argmax(softScores,axis=-1))\n",
    "        files = np.asarray(files)\n",
    "        tpn = true == pred\n",
    "        for dataset in set(files):\n",
    "            mask = files == dataset\n",
    "            logs['acc_'+dataset] = np.sum(tpn[mask])/np.sum(mask)\n",
    "        if verbose:\n",
    "            print(logs.items())"
   ]
  },
  {
   "cell_type": "markdown",
   "metadata": {},
   "source": [
    "## UnderSampling"
   ]
  },
  {
   "cell_type": "code",
   "execution_count": 15,
   "metadata": {},
   "outputs": [],
   "source": [
    "log_name='frac.0'\n",
    "n_estimators = 100\n",
    "verbose = False\n",
    "model_dir = os.path.join('models','undersampling')"
   ]
  },
  {
   "cell_type": "code",
   "execution_count": 16,
   "metadata": {},
   "outputs": [
    {
     "name": "stdout",
     "output_type": "stream",
     "text": [
      "0.5348609044303404\n",
      "0.018994079944363924\n",
      "Posterior Fusion Score:\n",
      "TN:104,FP:12,FN:499,TP:67,Sensitivity:0.118374556003,Specificity0.89655163912,Macc:0.507463097562,F1:0.207749566384,AUC:0.585293042525,MCC:0.0175233309717\n",
      "[('acc_0', 0.250733137829912)]\n"
     ]
    },
    {
     "data": {
      "image/png": "[encoded data removed]",
      "text/plain": [
       "<matplotlib.figure.Figure at 0x7f53deea5890>"
      ]
     },
     "metadata": {},
     "output_type": "display_data"
    }
   ],
   "source": [
    "feat = 'BOAW'\n",
    "\n",
    "np.random.seed(1)\n",
    "rand_states = np.random.randint(20000,size=(n_estimators,))\n",
    "\n",
    "results = []\n",
    "softScores = []\n",
    "\n",
    "for idx,rand_state in enumerate(rand_states):\n",
    "    rus = RandomUnderSampler(random_state=rand_state)    \n",
    "    X,y = rus.fit_resample(X_train[:,:codebook],y_train)\n",
    "#     X = X_train[:,:codebook]\n",
    "#     y = y_train\n",
    "    \n",
    "    model_name = feat+str(idx)+'.'+log_name+'.pkl'\n",
    "    \n",
    "    if os.path.isfile(os.path.join(model_dir,model_name)):\n",
    "        if verbose:\n",
    "            print(\"Loading Model\",model_name)\n",
    "        clf = joblib.load(os.path.join(model_dir,model_name)) \n",
    "    else:\n",
    "        clf = NuSVC(kernel='linear',probability=True,verbose=verbose,\n",
    "                  random_state=rand_state, nu = .5)\n",
    "        if verbose:\n",
    "            print(\"Training SVM %d\" % idx)\n",
    "        clf.fit(X,y)\n",
    "        joblib.dump(clf,os.path.join(model_dir,model_name))\n",
    "        \n",
    "    softScores.append(clf.predict_proba(X_val[:,:codebook]))\n",
    "    results.append(verboseMetrics(y_val,softScores[-1],verbose=verbose))\n",
    "    \n",
    "    del clf\n",
    "    \n",
    "print(np.mean(results))\n",
    "print(np.std(results))\n",
    "\n",
    "## Calculate fused posteriors for all the SVMs\n",
    "\n",
    "boaw_posteriors = np.asarray(np.zeros((y_val.shape[0],2)))\n",
    "\n",
    "for each in softScores:\n",
    "    boaw_posteriors+=each\n",
    "print(\"Posterior Fusion Score:\")\n",
    "boaw_posteriors /= n_estimators\n",
    "verboseMetrics(y_val,boaw_posteriors,val_files,thresh=0.664585)\n",
    "\n",
    "## Plot distribution of SVM accuracies\n",
    "\n",
    "sns.distplot(results,20)\n",
    "plt.show()"
   ]
  },
  {
   "cell_type": "code",
   "execution_count": 120,
   "metadata": {},
   "outputs": [
    {
     "name": "stderr",
     "output_type": "stream",
     "text": [
      "/usr/local/lib/python2.7/dist-packages/ipykernel_launcher.py:13: RuntimeWarning: invalid value encountered in true_divide\n",
      "  del sys.path[0]\n"
     ]
    },
    {
     "name": "stdout",
     "output_type": "stream",
     "text": [
      "0.5078878828727007\n",
      "0.013369782378306813\n",
      "Posterior Fusion Score:\n",
      "Threshold selected as 0.713605\n",
      "TN:61,FP:55,FN:56,TP:60,Sensitivity:0.517241330262,Specificity0.525862019099,Macc:0.52155167468,F1:0.519474970167,AUC:0.543846611177,MCC:0.0431050500093\n",
      "Threshold selected as 0.713605\n",
      "[('acc_0', 0.521551724137931)]\n"
     ]
    },
    {
     "data": {
      "image/png": "[encoded data removed]",
      "text/plain": [
       "<matplotlib.figure.Figure at 0x7fb6ca646b90>"
      ]
     },
     "metadata": {},
     "output_type": "display_data"
    }
   ],
   "source": [
    "feat = 'fbank'\n",
    "np.random.seed(1)\n",
    "rand_states = np.random.randint(20000,size=(n_estimators,))\n",
    "\n",
    "results = []\n",
    "softScores = []\n",
    "\n",
    "for idx,rand_state in enumerate(rand_states):\n",
    "    rus = RandomUnderSampler(random_state=rand_state)    \n",
    "    X,y = rus.fit_resample(X_train[:,codebook:codebook+2707],y_train)\n",
    "#     X = X_train[:,codebook:codebook+2707]\n",
    "#     y = y_train\n",
    "    \n",
    "    model_name = feat+str(idx)+'.'+log_name+'.pkl'\n",
    "    \n",
    "    if os.path.isfile(os.path.join(model_dir,model_name)):\n",
    "        if verbose:\n",
    "            print(\"Loading Model\",model_name)\n",
    "        clf = joblib.load(os.path.join(model_dir,model_name)) \n",
    "    else:\n",
    "        clf = NuSVC(kernel='linear',probability=True,verbose=verbose,\n",
    "                  random_state=rand_state, nu = .5)\n",
    "        if verbose:\n",
    "            print(\"Training SVM %d\" % idx)\n",
    "        clf.fit(X,y)\n",
    "        joblib.dump(clf,os.path.join(model_dir,model_name))\n",
    "        \n",
    "    softScores.append(clf.predict_proba(X_val[:,codebook:codebook+2707]))\n",
    "    results.append(verboseMetrics(y_val,softScores[-1],verbose=verbose))\n",
    "    \n",
    "    del clf\n",
    "    \n",
    "print(np.mean(results))\n",
    "print(np.std(results))\n",
    "\n",
    "## Calculate fused posteriors for all the SVMs\n",
    "\n",
    "fbank_posteriors = np.asarray(np.zeros((y_val.shape[0],2)))\n",
    "\n",
    "for each in softScores:\n",
    "    fbank_posteriors+=each\n",
    "print(\"Posterior Fusion Score:\")\n",
    "fbank_posteriors /= n_estimators\n",
    "verboseMetrics(y_val,fbank_posteriors,val_files,thresh='EER')\n",
    "\n",
    "## Plot distribution of SVM accuracies\n",
    "\n",
    "sns.distplot(results,20)\n",
    "plt.show()"
   ]
  },
  {
   "cell_type": "code",
   "execution_count": 71,
   "metadata": {},
   "outputs": [
    {
     "name": "stdout",
     "output_type": "stream",
     "text": [
      "0.47784478227333954\n",
      "0.011073810865621099\n",
      "Posterior Fusion Score:\n",
      "TN:77,FP:39,FN:82,TP:34,Sensitivity:0.293103420482,Specificity0.663793040502,Macc:0.478448230492,F1:0.359783102676,AUC:0.453552318668,MCC:-0.0464098336891\n",
      "[('acc_0', 0.47844827586206895)]\n"
     ]
    },
    {
     "data": {
      "image/png": "[encoded data removed]",
      "text/plain": [
       "<matplotlib.figure.Figure at 0x7fb6ca38ab90>"
      ]
     },
     "metadata": {},
     "output_type": "display_data"
    }
   ],
   "source": [
    "feat = 'ComParE'\n",
    "\n",
    "np.random.seed(1)\n",
    "rand_states = np.random.randint(20000,size=(n_estimators,))\n",
    "\n",
    "results = []\n",
    "softScores = []\n",
    "\n",
    "for idx,rand_state in enumerate(rand_states):\n",
    "    rus = RandomUnderSampler(random_state=rand_state)    \n",
    "    X,y = rus.fit_resample(X_train[:,codebook+2707:],y_train)\n",
    "#     X = X_train[:,codebook+2707:]\n",
    "#     y = y_train\n",
    "    \n",
    "    model_name = feat+str(idx)+'.'+log_name+'.pkl'\n",
    "    \n",
    "    if os.path.isfile(os.path.join(model_dir,model_name)):\n",
    "        if verbose:\n",
    "            print(\"Loading Model\",model_name)\n",
    "        clf = joblib.load(os.path.join(model_dir,model_name)) \n",
    "    else:\n",
    "        clf = NuSVC(kernel='linear',probability=True,verbose=verbose,\n",
    "                  random_state=rand_state, nu = .5)\n",
    "        if verbose:\n",
    "            print(\"Training SVM %d\" % idx)\n",
    "        clf.fit(X,y)\n",
    "        joblib.dump(clf,os.path.join(model_dir,model_name))\n",
    "        3\n",
    "    softScores.append(clf.predict_proba(X_val[:,codebook+2707:]))\n",
    "    results.append(verboseMetrics(y_val,softScores[-1],verbose=verbose))\n",
    "        \n",
    "    del clf\n",
    "    \n",
    "print(np.mean(results))\n",
    "print(np.std(results))\n",
    "\n",
    "## Calculate fused posteriors for all the SVMs\n",
    "\n",
    "compare_posteriors = np.asarray(np.zeros((y_val.shape[0],2)))\n",
    "\n",
    "for each in softScores:\n",
    "    compare_posteriors+=each\n",
    "print(\"Posterior Fusion Score:\")\n",
    "compare_posteriors /= n_estimators\n",
    "verboseMetrics(y_val,compare_posteriors,val_files)\n",
    "\n",
    "## Plot distribution of SVM accuracies\n",
    "\n",
    "sns.distplot(results,20)\n",
    "plt.show()"
   ]
  },
  {
   "cell_type": "code",
   "execution_count": 73,
   "metadata": {
    "scrolled": true
   },
   "outputs": [
    {
     "name": "stdout",
     "output_type": "stream",
     "text": [
      "Validation accuracy Fusion 0.551724\n",
      "TN:85,FP:31,FN:73,TP:43,Sensitivity:0.370689620021,Specificity0.732758551204,Macc:0.551724085612,F1:0.452626295351,AUC:0.586281212842,MCC:0.110977986925\n",
      "[('acc_0', 0.5517241379310345)]\n"
     ]
    },
    {
     "data": {
      "text/plain": [
       "0.5517240856123712"
      ]
     },
     "execution_count": 73,
     "metadata": {},
     "output_type": "execute_result"
    }
   ],
   "source": [
    "weights = [.92,.055,.025]\n",
    "\n",
    "fusedSoft = boaw_posteriors*weights[0]+fbank_posteriors*weights[1]+compare_posteriors*weights[2]\n",
    "print(\"Validation accuracy Fusion %f\" % accuracy_score(y_val,\n",
    "                                                            np.argmax(fusedSoft,axis=-1)))\n",
    "verboseMetrics(y_val,fusedSoft,val_files)"
   ]
  },
  {
   "cell_type": "markdown",
   "metadata": {},
   "source": [
    "###### OverSampling"
   ]
  },
  {
   "cell_type": "code",
   "execution_count": 123,
   "metadata": {},
   "outputs": [],
   "source": [
    "log_name='frac.0'\n",
    "n_estimators = 5\n",
    "verbose = False\n",
    "model_dir = os.path.join('models','oversampling')"
   ]
  },
  {
   "cell_type": "code",
   "execution_count": 93,
   "metadata": {},
   "outputs": [
    {
     "name": "stdout",
     "output_type": "stream",
     "text": [
      "0.5249999502155219\n",
      "0.006334886665096518\n",
      "Posterior Fusion Score:\n",
      "Threshold selected as 0.346627\n",
      "TN:67,FP:49,FN:49,TP:67,Sensitivity:0.577586152125,Specificity0.577586152125,Macc:0.577586152125,F1:0.577580652178,AUC:0.589922711058,MCC:0.155172413793\n",
      "Threshold selected as 0.346627\n",
      "[('acc_0', 0.5775862068965517)]\n"
     ]
    },
    {
     "data": {
      "image/png": "[encoded data removed]",
      "text/plain": [
       "<matplotlib.figure.Figure at 0x7fb6c68b2790>"
      ]
     },
     "metadata": {},
     "output_type": "display_data"
    }
   ],
   "source": [
    "feat = 'BOAW'\n",
    "\n",
    "np.random.seed(1)\n",
    "rand_states = np.random.randint(20000,size=(n_estimators,))\n",
    "\n",
    "results = []\n",
    "softScores = []\n",
    "\n",
    "for idx,rand_state in enumerate(rand_states):\n",
    "    rus = RandomOverSampler(random_state=rand_state)    \n",
    "    X,y = rus.fit_resample(X_train[:,:codebook],y_train)\n",
    "    \n",
    "    model_name = feat+str(idx)+'.'+log_name+'.pkl'\n",
    "    \n",
    "    if os.path.isfile(os.path.join(model_dir,model_name)):\n",
    "        if verbose:\n",
    "            print(\"Loading Model\",model_name)\n",
    "        clf = joblib.load(os.path.join(model_dir,model_name)) \n",
    "    else:\n",
    "        clf = NuSVC(kernel='linear',probability=True,verbose=verbose,\n",
    "                  random_state=rand_state, nu = .5)\n",
    "        if verbose:\n",
    "            print(\"Training SVM %d\" % idx)\n",
    "        clf.fit(X,y)\n",
    "        joblib.dump(clf,os.path.join(model_dir,model_name))\n",
    "    \n",
    "    softScores.append(clf.predict_proba(X_val[:,:codebook]))\n",
    "    results.append(verboseMetrics(y_val,softScores[-1],verbose=verbose))\n",
    "    \n",
    "    del clf\n",
    "    \n",
    "print(np.mean(results))\n",
    "print(np.std(results))\n",
    "\n",
    "## Calculate fused posteriors for all the SVMs\n",
    "\n",
    "boaw_posteriors = np.asarray(np.zeros((y_val.shape[0],2)))\n",
    "\n",
    "for each in softScores:\n",
    "    boaw_posteriors+=each\n",
    "print(\"Posterior Fusion Score:\")\n",
    "boaw_posteriors /= n_estimators\n",
    "verboseMetrics(y_val,boaw_posteriors,val_files)\n",
    "\n",
    "## Plot distribution of SVM accuracies\n",
    "\n",
    "sns.distplot(results,20)\n",
    "plt.show()"
   ]
  },
  {
   "cell_type": "code",
   "execution_count": 124,
   "metadata": {},
   "outputs": [
    {
     "name": "stdout",
     "output_type": "stream",
     "text": [
      "0.4999999525862114\n",
      "0.005452202345340082\n",
      "Posterior Fusion Score:\n",
      "Threshold selected as 0.999997\n",
      "TN:54,FP:62,FN:63,TP:53,Sensitivity:0.456896508398,Specificity0.465517197235,Macc:0.461206852817,F1:0.458868915341,AUC:0.461801426873,MCC:-0.0775890900168\n",
      "Threshold selected as 0.999997\n",
      "[('acc_0', 0.46120689655172414)]\n"
     ]
    },
    {
     "data": {
      "image/png": "[encoded data removed]",
      "text/plain": [
       "<matplotlib.figure.Figure at 0x7fb6c6804610>"
      ]
     },
     "metadata": {},
     "output_type": "display_data"
    }
   ],
   "source": [
    "feat = 'fbank'\n",
    "\n",
    "np.random.seed(1)\n",
    "rand_states = np.random.randint(20000,size=(n_estimators,))\n",
    "\n",
    "results = []\n",
    "softScores = []\n",
    "\n",
    "for idx,rand_state in enumerate(rand_states):\n",
    "    rus = RandomOverSampler(random_state=rand_state)    \n",
    "    X,y = rus.fit_resample(X_train[:,codebook:codebook+2707],y_train)\n",
    "    \n",
    "    model_name = feat+str(idx)+'.'+log_name+'.pkl'\n",
    "    \n",
    "    if os.path.isfile(os.path.join(model_dir,model_name)):\n",
    "        if verbose:\n",
    "            print(\"Loading Model\",model_name)\n",
    "        clf = joblib.load(os.path.join(model_dir,model_name)) \n",
    "    else:\n",
    "        clf = NuSVC(kernel='linear',probability=True,verbose=verbose,\n",
    "                  random_state=rand_state, nu = .5)\n",
    "        if verbose:\n",
    "            print(\"Training SVM %d\" % idx)\n",
    "        clf.fit(X,y)\n",
    "        joblib.dump(clf,os.path.join(model_dir,model_name))\n",
    "    \n",
    "    softScores.append(clf.predict_proba(X_val[:,codebook:codebook+2707]))\n",
    "    results.append(verboseMetrics(y_val,softScores[-1],verbose=verbose))\n",
    "    \n",
    "    del clf\n",
    "    \n",
    "print(np.mean(results))\n",
    "print(np.std(results))\n",
    "\n",
    "## Calculate fused posteriors for all the SVMs\n",
    "\n",
    "fbank_posteriors = np.asarray(np.zeros((y_val.shape[0],2)))\n",
    "\n",
    "for each in softScores:\n",
    "    fbank_posteriors+=each\n",
    "print(\"Posterior Fusion Score:\")\n",
    "fbank_posteriors /= n_estimators\n",
    "verboseMetrics(y_val,fbank_posteriors,val_files,thresh='EER')\n",
    "\n",
    "## Plot distribution of SVM accuracies\n",
    "\n",
    "sns.distplot(results,20)\n",
    "plt.show()"
   ]
  },
  {
   "cell_type": "code",
   "execution_count": 91,
   "metadata": {},
   "outputs": [
    {
     "name": "stdout",
     "output_type": "stream",
     "text": [
      "0.46982754165428486\n",
      "0.011882799521536447\n",
      "Posterior Fusion Score:\n",
      "TN:83,FP:33,FN:90,TP:26,Sensitivity:0.22413790978,Specificity0.715517173529,Macc:0.469827541654,F1:0.297137903363,AUC:0.453403686088,MCC:-0.0692865572869\n",
      "[('acc_0', 0.4698275862068966)]\n"
     ]
    },
    {
     "data": {
      "image/png": "[encoded data removed]",
      "text/plain": [
       "<matplotlib.figure.Figure at 0x7fb6ca3a95d0>"
      ]
     },
     "metadata": {},
     "output_type": "display_data"
    }
   ],
   "source": [
    "feat = 'ComParE'\n",
    "\n",
    "np.random.seed(1)\n",
    "rand_states = np.random.randint(20000,size=(n_estimators,))\n",
    "\n",
    "results = []\n",
    "softScores = []\n",
    "\n",
    "for idx,rand_state in enumerate(rand_states):\n",
    "    rus = RandomOverSampler(random_state=rand_state)\n",
    "    X,y = rus.fit_resample(X_train[:,codebook+2707:],y_train)\n",
    "    \n",
    "    model_name = feat+str(idx)+'.'+log_name+'.pkl'\n",
    "    \n",
    "    if os.path.isfile(os.path.join(model_dir,model_name)):\n",
    "        if verbose:\n",
    "            print(\"Loading Model\",model_name)\n",
    "        clf = joblib.load(os.path.join(model_dir,model_name))\n",
    "    else:\n",
    "        clf = NuSVC(kernel='linear',probability=True,verbose=verbose,\n",
    "                  random_state=rand_state, nu = .5)\n",
    "        if verbose:\n",
    "            print(\"Training SVM %d\" % idx)\n",
    "        clf.fit(X,y)\n",
    "        joblib.dump(clf,os.path.join(model_dir,model_name))\n",
    "    \n",
    "    softScores.append(clf.predict_proba(X_val[:,codebook+2707:]))\n",
    "    results.append(verboseMetrics(y_val,softScores[-1],verbose=verbose))\n",
    "    \n",
    "    del clf\n",
    "    \n",
    "print(np.mean(results))\n",
    "print(np.std(results))\n",
    "\n",
    "## Calculate fused posteriors for all the SVMs\n",
    "\n",
    "compare_posteriors = np.asarray(np.zeros((y_val.shape[0],2)))\n",
    "\n",
    "for each in softScores:\n",
    "    compare_posteriors+=each\n",
    "print(\"Posterior Fusion Score:\")\n",
    "compare_posteriors /= n_estimators\n",
    "verboseMetrics(y_val,compare_posteriors,val_files)\n",
    "\n",
    "## Plot distribution of SVM accuracies\n",
    "\n",
    "sns.distplot(results,20)\n",
    "plt.show()"
   ]
  },
  {
   "cell_type": "code",
   "execution_count": 92,
   "metadata": {},
   "outputs": [
    {
     "name": "stdout",
     "output_type": "stream",
     "text": [
      "Validation accuracy Fusion 0.491379\n",
      "TN:72,FP:44,FN:74,TP:42,Sensitivity:0.362068931183,Specificity0.620689596314,Macc:0.491379263749,F1:0.41583616025,AUC:0.532476218787,MCC:-0.0178486076175\n",
      "[('acc_0', 0.49137931034482757)]\n"
     ]
    },
    {
     "data": {
      "text/plain": [
       "0.49137926374851815"
      ]
     },
     "execution_count": 92,
     "metadata": {},
     "output_type": "execute_result"
    }
   ],
   "source": [
    "weights = [.53,.17,.3]\n",
    "\n",
    "fusedSoft = boaw_posteriors*weights[0]+fbank_posteriors*weights[1]+compare_posteriors*weights[2]\n",
    "print(\"Validation accuracy Fusion %f\" % accuracy_score(y_val,\n",
    "                                                            np.argmax(fusedSoft,axis=-1)))\n",
    "verboseMetrics(y_val,fusedSoft,val_files)"
   ]
  },
  {
   "cell_type": "code",
   "execution_count": null,
   "metadata": {},
   "outputs": [],
   "source": [
    "## Compare\n",
    "\n",
    "np.random.seed(1)\n",
    "rand_states = np.random.randint(20000,size=(n_estimators,))\n",
    "\n",
    "results = []\n",
    "softScores = []\n",
    "\n",
    "for idx,rand_state in enumerate(rand_states):\n",
    "    rus = RandomOverSampler(random_state=rand_state)    \n",
    "    X,y = rus.fit_resample(X_train[:,codebook+2707:],y_train)\n",
    "    \n",
    "    clf = SVC(kernel='linear',probability=True,verbose=verbose=verbose,\n",
    "              random_state=rand_state, C = 1)\n",
    "    if verbose:\n",
    "        print(\"Training SVM %d\" % idx)\n",
    "    clf.fit(X,y)\n",
    "    \n",
    "    softScores.append(clf.predict_proba(X_val[:,codebook+2707:]))\n",
    "    results.append(verboseMetrics(y_val,softScores[-1],verbose))\n",
    "    \n",
    "    del clf\n",
    "    \n",
    "print(np.mean(results))\n",
    "print(np.std(results))\n",
    "\n",
    "## Calculate fused posteriors for all the SVMs\n",
    "\n",
    "compare_posteriors = np.asarray(np.zeros((y_val.shape[0],2)))\n",
    "\n",
    "for each in softScores:\n",
    "    compare_posteriors+=each\n",
    "print(\"Posterior Fusion Score:\")\n",
    "verboseMetrics(y_val,compare_posteriors,val_files)\n",
    "\n",
    "## Plot distribution of SVM accuracies\n",
    "\n",
    "sns.distplot(results,20)\n",
    "plt.show()"
   ]
  }
 ],
 "metadata": {
  "kernelspec": {
   "display_name": "Python 2",
   "language": "python",
   "name": "python2"
  },
  "language_info": {
   "codemirror_mode": {
    "name": "ipython",
    "version": 2
   },
   "file_extension": ".py",
   "mimetype": "text/x-python",
   "name": "python",
   "nbconvert_exporter": "python",
   "pygments_lexer": "ipython2",
   "version": "2.7.12"
  }
 },
 "nbformat": 4,
 "nbformat_minor": 2
}
