{
 "cells": [
  {
   "cell_type": "code",
   "execution_count": 1,
   "metadata": {},
   "outputs": [],
   "source": [
    "from __future__ import absolute_import, division, print_function\n",
    "import os\n",
    "from scipy.io import loadmat\n",
    "import arff\n",
    "import numpy as np\n",
    "import pandas as pd\n",
    "\n",
    "from sklearn.model_selection import GridSearchCV\n",
    "from sklearn.model_selection import train_test_split\n",
    "from sklearn.metrics import accuracy_score, confusion_matrix, roc_auc_score, roc_curve\n",
    "from sklearn.preprocessing import StandardScaler\n",
    "\n",
    "\n",
    "from sklearn.svm import NuSVC, SVC\n",
    "from sklearn.svm import libsvm\n",
    "from imblearn.ensemble import BalancedBaggingClassifier\n",
    "from imblearn.ensemble import RUSBoostClassifier\n",
    "from imblearn.under_sampling import RandomUnderSampler\n",
    "from imblearn.over_sampling import RandomOverSampler\n",
    "\n",
    "from matplotlib import pyplot as plt\n",
    "import seaborn as sns\n",
    "sns.set()\n",
    "\n",
    "from collections import Counter"
   ]
  },
  {
   "cell_type": "markdown",
   "metadata": {},
   "source": [
    "## Feature Paths"
   ]
  },
  {
   "cell_type": "code",
   "execution_count": 2,
   "metadata": {},
   "outputs": [],
   "source": [
    "FBANK_feat = os.path.join('FBANK','binnedFeat.mat')\n",
    "FBANK_label = os.path.join('FBANK','binnedLabels.csv')\n",
    "ComParE_feat = os.path.join('baseline','openSMILEall_PCG.mat')\n",
    "BOAW_feat = os.path.join('baseline_boaw','feat','boawFeat.4096.arff')\n",
    "BOAW_meta = os.path.join('baseline_boaw','feat','BOAW_filenames.txt')"
   ]
  },
  {
   "cell_type": "code",
   "execution_count": 3,
   "metadata": {},
   "outputs": [],
   "source": [
    "def severe2abnormal(labels):\n",
    "    for idx,each in enumerate(labels):\n",
    "        if each == 2:\n",
    "            labels[idx]=1\n",
    "    return labels"
   ]
  },
  {
   "cell_type": "markdown",
   "metadata": {},
   "source": [
    "## Data Loading"
   ]
  },
  {
   "cell_type": "code",
   "execution_count": 4,
   "metadata": {},
   "outputs": [
    {
     "name": "stdout",
     "output_type": "stream",
     "text": [
      "baseline_boaw/feat/fold0.train.4096.arff\n",
      "True\n",
      "baseline_boaw/feat/fold0.dev.4096.arff\n",
      "True\n",
      "baseline_boaw/feat/interspeech.4096.arff\n",
      "True\n"
     ]
    }
   ],
   "source": [
    "## Load BoaW fixed\n",
    "\n",
    "foldnum = 0\n",
    "codebook = 4096\n",
    "feat_path = os.path.join('baseline_boaw/feat/')\n",
    "meta_path = os.path.join('..','..','feature','mfcc')\n",
    "\n",
    "\n",
    "scaler = StandardScaler()\n",
    "\n",
    "X = []\n",
    "y = []\n",
    "filenames = []\n",
    "\n",
    "for subset in ['train','dev']:\n",
    "    BOAW_feat = os.path.join(feat_path,\n",
    "                             'fold%d.%s.%d.arff' % (foldnum,subset,codebook))\n",
    "    BOAW_meta = os.path.join(meta_path,'fold%d.%s.filenames.txt' % (foldnum,subset))\n",
    "    print(BOAW_feat)\n",
    "    print(os.path.isfile(BOAW_meta))\n",
    "    \n",
    "    df = arff.load(open(BOAW_feat,'r'))\n",
    "    boawData = pd.DataFrame(np.array(df['data'],dtype=float))\n",
    "    del df\n",
    "\n",
    "    boawFilenames = []\n",
    "    with open(BOAW_meta, 'r') as fp:\n",
    "        line = fp.readline()\n",
    "        boawFilenames.append(line.split('\\n')[0])\n",
    "        while line:\n",
    "                line = fp.readline()\n",
    "                boawFilenames.append(line.split('\\n')[0])\n",
    "    boawFilenames = boawFilenames[:-1]\n",
    "    boawData['filenames'] = boawFilenames\n",
    "    boawData.rename({len(boawData.columns)-2:'label'},axis='columns',inplace=True)\n",
    "    boawData.label = [int(each) for each in boawData.label]\n",
    "    boawData['dataset'] = [each[-1][0] for each in boawData.filenames.str.split('_')]\n",
    "    boawData.set_index('filenames',drop=True,inplace=True)\n",
    "    \n",
    "    filenames.append(boawFilenames)\n",
    "    del boawFilenames\n",
    "    \n",
    "    X.append(boawData[range(4096)].values)\n",
    "    y.append(boawData.label.values)\n",
    "    \n",
    "    del boawData\n",
    "    \n",
    "    \n",
    "## Append INTERSPEECH with fold1 codebook\n",
    "\n",
    "BOAW_feat = os.path.join(feat_path,\n",
    "                         'interspeech.%d.arff' % (codebook))\n",
    "BOAW_meta = os.path.join(meta_path,'interspeech.filenames.txt')\n",
    "print(BOAW_feat)\n",
    "print(os.path.isfile(BOAW_feat))\n",
    "\n",
    "df = arff.load(open(BOAW_feat,'r'))\n",
    "boawData = pd.DataFrame(np.array(df['data'],dtype=float))\n",
    "del df\n",
    "\n",
    "boawFilenames = []\n",
    "with open(BOAW_meta, 'r') as fp:\n",
    "    line = fp.readline()\n",
    "    boawFilenames.append(line.split('\\n')[0])\n",
    "    while line:\n",
    "            line = fp.readline()\n",
    "            boawFilenames.append(line.split('\\n')[0])\n",
    "boawFilenames = boawFilenames[:-1]\n",
    "boawData['filenames'] = boawFilenames\n",
    "boawData.rename({len(boawData.columns)-2:'label'},axis='columns',inplace=True)\n",
    "boawData.label = [int(each) for each in boawData.label]\n",
    "boawData['dataset'] = [each[-1][0] for each in boawData.filenames.str.split('_')]\n",
    "boawData.set_index('filenames',drop=True,inplace=True)\n",
    "\n",
    "filenames.append(boawFilenames)\n",
    "del boawFilenames\n",
    "\n",
    "X.append(boawData[range(4096)].values)\n",
    "y.append(boawData.label.values)\n",
    "\n",
    "del boawData\n",
    "\n",
    "    \n",
    "X = np.vstack(X)\n",
    "y = np.hstack(y)\n",
    "filenames = np.hstack(filenames)\n",
    "\n",
    "boawData = pd.DataFrame(X)\n",
    "boawData['filenames'] = filenames\n",
    "boawData['label'] = y\n",
    "boawData.set_index('filenames',drop=True,inplace=True)\n",
    "boawData['dataset'] = [each[-1][0] for each in boawData.index.str.split('_')]\n",
    "\n",
    "\n",
    "del X,y"
   ]
  },
  {
   "cell_type": "code",
   "execution_count": 5,
   "metadata": {},
   "outputs": [
    {
     "data": {
      "text/plain": [
       "(3835, 2709)"
      ]
     },
     "execution_count": 5,
     "metadata": {},
     "output_type": "execute_result"
    }
   ],
   "source": [
    "## Load FBANK: \n",
    "\n",
    "df = loadmat(FBANK_feat)\n",
    "fbankData = pd.DataFrame(df['feats'])\n",
    "fbankMeta = pd.read_csv(FBANK_label)\n",
    "fbankMeta.file_name = [each[0] for each in fbankMeta.file_name.str.split('.')]\n",
    "fbankData = fbankData.join(fbankMeta)\n",
    "fbankData.dropna(inplace=True)\n",
    "fbankData.rename({'file_name':'filenames'},axis=\"columns\",inplace=True)\n",
    "fbankData.label = [int(each) for each in fbankData.label]\n",
    "fbankData['dataset'] = [each[-1][0] for each in fbankData.filenames.str.split('_')]\n",
    "fbankData.set_index('filenames',drop=True,inplace=True)\n",
    "\n",
    "del df, fbankMeta\n",
    "\n",
    "fbankData.shape"
   ]
  },
  {
   "cell_type": "code",
   "execution_count": 6,
   "metadata": {
    "scrolled": true
   },
   "outputs": [
    {
     "data": {
      "text/plain": [
       "(3835, 6375)"
      ]
     },
     "execution_count": 6,
     "metadata": {},
     "output_type": "execute_result"
    }
   ],
   "source": [
    "## Load ComParE:\n",
    "\n",
    "df = loadmat(ComParE_feat)\n",
    "\n",
    "compareData = pd.DataFrame(df['dataTrain'])\n",
    "compareData = pd.concat((compareData,pd.DataFrame(df['dataDev'])),axis=\"rows\").reset_index(drop=True)\n",
    "compareData['label'] = np.concatenate((np.hstack(df['TrainLabels']),np.hstack(df['DevLabels'])),axis=0)\n",
    "compareData['filenames'] = np.concatenate((np.hstack(df['TrainFiles']),np.hstack(df['DevFiles'])),axis=0)\n",
    "compareData.filenames = [each[0] for each in compareData.filenames.str.split('.')]\n",
    "compareData.label = [int(each) for each in compareData.label]\n",
    "compareData['dataset'] = [each[-1][0] for each in compareData.filenames.str.split('_')]\n",
    "compareData.set_index('filenames',drop=True,inplace=True)\n",
    "\n",
    "del df\n",
    "\n",
    "compareData.shape"
   ]
  },
  {
   "cell_type": "code",
   "execution_count": 7,
   "metadata": {},
   "outputs": [
    {
     "name": "stdout",
     "output_type": "stream",
     "text": [
      "Target Size 13178\n"
     ]
    },
    {
     "data": {
      "text/plain": [
       "(3835, 13178)"
      ]
     },
     "execution_count": 7,
     "metadata": {},
     "output_type": "execute_result"
    }
   ],
   "source": [
    "## Fuse dataframes\n",
    "\n",
    "print(\"Target Size %d\" % (len(boawData.columns)-2+len(fbankData.columns)-2+len(compareData.columns)))\n",
    "fused = boawData[range(len(boawData.columns)-2)].join(fbankData[range(len(fbankData.columns)-2)],rsuffix='fbank')\n",
    "fused = fused.join(compareData,lsuffix='fused')\n",
    "fused.dropna()\n",
    "fused.columns = range(len(fused.columns))\n",
    "fused.rename({len(fused.columns)-2:'label',len(fused.columns)-1:'dataset'},axis=\"columns\",inplace=True)\n",
    "\n",
    "del boawData, fbankData, compareData\n",
    "\n",
    "fused.shape"
   ]
  },
  {
   "cell_type": "markdown",
   "metadata": {},
   "source": [
    "### Random Validation Split"
   ]
  },
  {
   "cell_type": "code",
   "execution_count": null,
   "metadata": {},
   "outputs": [],
   "source": [
    "rand_state = 114\n",
    "n_estimators = 10\n",
    "dataset = '0'\n",
    "\n",
    "scaler = StandardScaler()\n",
    "mask = fused.dataset == dataset\n",
    "\n",
    "X = scaler.fit_transform(fused[range(len(fused.columns)-2)][mask]) ## .4489999\n",
    "y = fused.label[mask]\n",
    "\n",
    "X_train, X_val, y_train, y_val = train_test_split(X, y,\n",
    "                                                  test_size = 0.3,\n",
    "                                                  random_state = rand_state,\n",
    "                                                  shuffle = True)"
   ]
  },
  {
   "cell_type": "markdown",
   "metadata": {},
   "source": [
    "### Dev set of Compare"
   ]
  },
  {
   "cell_type": "code",
   "execution_count": null,
   "metadata": {},
   "outputs": [],
   "source": [
    "rand_state = 1\n",
    "dataset = '0'\n",
    "\n",
    "scaler = StandardScaler()\n",
    "mask1 = fused.dataset == dataset\n",
    "mask2 = fused[mask1].index.str.contains('train')\n",
    "mask3 = fused[mask1].index.str.contains('devel')\n",
    "\n",
    "X = scaler.fit_transform(fused[range(len(fused.columns)-2)][mask1]) ## .4489999\n",
    "y = fused.label[mask1]\n",
    "\n",
    "X_train = X[mask2]\n",
    "y_train = y[mask2]\n",
    "X_val = X[mask3]\n",
    "y_val = y[mask3]\n",
    "\n",
    "del mask1, mask2, mask3, X, y"
   ]
  },
  {
   "cell_type": "markdown",
   "metadata": {},
   "source": [
    "### Fold1_noFIR"
   ]
  },
  {
   "cell_type": "code",
   "execution_count": 8,
   "metadata": {},
   "outputs": [],
   "source": [
    "rand_state = 114\n",
    "n_estimators = 5\n",
    "scaler = StandardScaler()\n",
    "\n",
    "fold1_val = '/media/taufiq/Data1/heart_sound/feature/segmented_noFIR/validation1.txt'\n",
    "df = pd.read_csv(fold1_val,header=None)\n",
    "df[0] = ['train_'+each for each in df[0]]\n",
    "df.columns = ['filenames']\n",
    "df.set_index('filenames',drop=True,inplace=True)\n",
    "mask = fused.dataset == '0'\n",
    "fold1_data = fused[~mask]\n",
    "\n",
    "mask1 = [each in df.index.values for each in fold1_data.index.values]\n",
    "mask2 = [not each for each in mask1]\n",
    "X = scaler.fit_transform(fold1_data[range(len(fold1_data.columns)-2)])\n",
    "y = fold1_data.label\n",
    "files = np.asarray([each.split('_')[1][0] for each in fold1_data.index.values])\n",
    "del fold1_data\n",
    "\n",
    "X_train = scaler.fit_transform(X[mask2])\n",
    "# X_train = np.asarray(X[mask2].values)\n",
    "y_train = y[mask2]\n",
    "train_files = files[mask2]\n",
    "X_val = scaler.transform(X[mask1])\n",
    "# X_val = np.asarray(X[mask1].values)\n",
    "y_val = y[mask1]\n",
    "val_files = files[mask1]\n",
    "\n",
    "del mask, mask1, mask2, X, y, files"
   ]
  },
  {
   "cell_type": "markdown",
   "metadata": {},
   "source": [
    "### Fold2_noFIR"
   ]
  },
  {
   "cell_type": "code",
   "execution_count": null,
   "metadata": {},
   "outputs": [],
   "source": [
    "rand_state = 1\n",
    "n_estimators = 5\n",
    "\n",
    "fold1_val = '/media/taufiq/Data1/heart_sound/feature/segmented_noFIR/validation2.txt'\n",
    "df = pd.read_csv(fold1_val,header=None)\n",
    "df[0] = ['train_'+each for each in df[0]]\n",
    "df.columns = ['filenames']\n",
    "df.set_index('filenames',drop=True,inplace=True)\n",
    "mask = fused.dataset == '0'\n",
    "fold1_data = fused[~mask]\n",
    "\n",
    "mask1 = [each in df.index.values for each in fold1_data.index.values]\n",
    "mask2 = [not each for each in mask1]\n",
    "X = scaler.fit_transform(fold1_data[range(len(fold1_data.columns)-2)])\n",
    "y = fold1_data.label\n",
    "files = np.asarray([each.split('_')[1][0] for each in fold1_data.index.values])\n",
    "del fold1_data\n",
    "\n",
    "X_train = scaler.fit_transform(X[mask2])\n",
    "# X_train = np.asarray(X[mask2].values)\n",
    "y_train = y[mask2]\n",
    "train_files = files[mask2]\n",
    "X_val = scaler.transform(X[mask1])\n",
    "# X_val = np.asarray(X[mask1].values)\n",
    "y_val = y[mask1]\n",
    "val_files = files[mask1]\n",
    "\n",
    "del mask, mask1, mask2, X, y, files"
   ]
  },
  {
   "cell_type": "markdown",
   "metadata": {},
   "source": [
    "### Fold3_noFIR"
   ]
  },
  {
   "cell_type": "code",
   "execution_count": 8,
   "metadata": {},
   "outputs": [],
   "source": [
    "rand_state = 1\n",
    "n_estimators = 5\n",
    "\n",
    "fold1_val = '/media/taufiq/Data1/heart_sound/feature/segmented_noFIR/validation3.txt'\n",
    "df = pd.read_csv(fold1_val,header=None)\n",
    "df[0] = ['train_'+each for each in df[0]]\n",
    "df.columns = ['filenames']\n",
    "df.set_index('filenames',drop=True,inplace=True)\n",
    "mask = fused.dataset == '0'\n",
    "fold1_data = fused[~mask]\n",
    "\n",
    "mask1 = [each in df.index.values for each in fold1_data.index.values]\n",
    "mask2 = [not each for each in mask1]\n",
    "X = scaler.fit_transform(fold1_data[range(len(fold1_data.columns)-2)])\n",
    "y = fold1_data.label\n",
    "files = np.asarray([each.split('_')[1][0] for each in fold1_data.index.values])\n",
    "del fold1_data\n",
    "\n",
    "X_train = scaler.fit_transform(X[mask2])\n",
    "# X_train = np.asarray(X[mask2].values)\n",
    "y_train = y[mask2]\n",
    "train_files = files[mask2]\n",
    "X_val = scaler.transform(X[mask1])\n",
    "# X_val = np.asarray(X[mask1].values)\n",
    "y_val = y[mask1]\n",
    "val_files = files[mask1]\n",
    "\n",
    "del mask, mask1, mask2, X, y, files"
   ]
  },
  {
   "cell_type": "markdown",
   "metadata": {},
   "source": [
    "### Fold0_noFIR"
   ]
  },
  {
   "cell_type": "code",
   "execution_count": 20,
   "metadata": {},
   "outputs": [],
   "source": [
    "rand_state = 1\n",
    "n_estimators = 5\n",
    "\n",
    "fold1_val = '/media/taufiq/Data1/heart_sound/feature/segmented_noFIR/validation0.txt'\n",
    "df = pd.read_csv(fold1_val,header=None)\n",
    "df[0] = ['train_'+each for each in df[0]]\n",
    "df.columns = ['filenames']\n",
    "df.set_index('filenames',drop=True,inplace=True)\n",
    "mask = fused.dataset == '0'\n",
    "fold1_data = fused[~mask]\n",
    "\n",
    "mask1 = [each in df.index.values for each in fold1_data.index.values]\n",
    "mask2 = [not each for each in mask1]\n",
    "X = scaler.fit_transform(fold1_data[range(len(fold1_data.columns)-2)])\n",
    "y = fold1_data.label\n",
    "files = np.asarray([each.split('_')[1][0] for each in fold1_data.index.values])\n",
    "del fold1_data\n",
    "\n",
    "X_train = scaler.fit_transform(X[mask2])\n",
    "# X_train = np.asarray(X[mask2].values)\n",
    "y_train = y[mask2]\n",
    "train_files = files[mask2]\n",
    "X_val = scaler.transform(X[mask1])\n",
    "# X_val = np.asarray(X[mask1].values)\n",
    "y_val = y[mask1]\n",
    "val_files = files[mask1]\n",
    "\n",
    "del mask, mask1, mask2, X, y, files"
   ]
  },
  {
   "cell_type": "markdown",
   "metadata": {},
   "source": [
    "## Fold0 with INTERSPEECH Test"
   ]
  },
  {
   "cell_type": "code",
   "execution_count": 49,
   "metadata": {},
   "outputs": [],
   "source": [
    "rand_state = 114\n",
    "n_estimators = 5\n",
    "scaler = StandardScaler()\n",
    "\n",
    "fold1_val = '/media/taufiq/Data1/heart_sound/feature/segmented_noFIR/validation0.txt'\n",
    "df = pd.read_csv(fold1_val,header=None)\n",
    "df[0] = ['train_'+each for each in df[0]]\n",
    "df.columns = ['filenames']\n",
    "df.set_index('filenames',drop=True,inplace=True)\n",
    "mask = fused.dataset == '0'\n",
    "fold1_data = fused[~mask]\n",
    "\n",
    "mask1 = [each in df.index.values for each in fold1_data.index.values]\n",
    "mask2 = [not each for each in mask1]\n",
    "X = fold1_data[range(len(fold1_data.columns)-2)]\n",
    "y = fold1_data.label\n",
    "files = np.asarray([each.split('_')[1][0] for each in fold1_data.index.values])\n",
    "del fold1_data\n",
    "\n",
    "X_train = scaler.fit_transform(X[mask2])\n",
    "y_train = y[mask2]\n",
    "# X_val = scaler.transform(X[mask1])\n",
    "# y_val = y[mask1]\n",
    "train_files = files[mask2]\n",
    "\n",
    "del mask1, mask2, X, y\n",
    "\n",
    "fold1_data = fused[mask]\n",
    "\n",
    "X = fold1_data[range(len(fold1_data.columns)-2)]\n",
    "y = fold1_data.label\n",
    "val_files = np.asarray([each.split('_')[1][0] for each in fold1_data.index.values])\n",
    "del fold1_data\n",
    "\n",
    "X_val = scaler.transform(X)\n",
    "y_val = y\n",
    "\n",
    "\n",
    "y_val = severe2abnormal(y_val.values)"
   ]
  },
  {
   "cell_type": "code",
   "execution_count": 84,
   "metadata": {},
   "outputs": [],
   "source": [
    "def verboseMetrics(y_val,softScores,files=None,verbose=True):\n",
    "    eps = 1.1e-5\n",
    "    if Counter(y_val).keys()[-1] == 1:\n",
    "        TN, FP, FN, TP = confusion_matrix(y_val, np.argmax(softScores,axis=-1), labels=[0,1]).ravel()\n",
    "        sensitivity = TP / (TP + FN + eps)\n",
    "        specificity = TN / (TN + FP + eps)\n",
    "        precision = TP / (TP + FP + eps)\n",
    "        F1 = 2 * (precision * sensitivity) / (precision + sensitivity + eps)\n",
    "        Macc = (sensitivity + specificity) / 2\n",
    "        auc = roc_auc_score(y_val,softScores[:,1])\n",
    "        if verbose:\n",
    "            print(\"TN:{},FP:{},FN:{},TP:{},Sensitivity:{},Specificity{},Macc:{},F1:{},AUC:{}\".format(TN, FP, FN, TP,sensitivity,specificity,Macc,F1,auc))\n",
    "        \n",
    "        if files is not None:\n",
    "            logs = dict()\n",
    "            true = np.asarray(y_val)\n",
    "            pred = np.asarray(np.argmax(softScores,axis=-1))\n",
    "            files = np.asarray(files)\n",
    "            tpn = true == pred\n",
    "            for dataset in set(files):\n",
    "                mask = files == dataset\n",
    "                logs['acc_'+dataset] = np.sum(tpn[mask])/np.sum(mask)\n",
    "            if verbose:\n",
    "                print(logs.items())\n",
    "            \n",
    "        return Macc\n",
    "    elif Counter(y_val).keys()[-1] == 2:\n",
    "        logs = dict()\n",
    "        confmat = confusion_matrix(y_pred=np.argmax(softScores,axis=-1), y_true=y_val)\n",
    "        logs['recall0'] = confmat[0, 0] / np.sum(confmat[0, :])\n",
    "        logs['recall1'] = confmat[1, 1] / np.sum(confmat[1, :])\n",
    "        logs['recall2'] = confmat[2, 2] / np.sum(confmat[2, :])\n",
    "        logs['UAR'] = np.mean([logs['recall0'], logs['recall1'], logs['recall2']])\n",
    "        \n",
    "    if files is not None:\n",
    "        true = np.asarray(y_val)\n",
    "        pred = np.asarray(np.argmax(softScores,axis=-1))\n",
    "        files = np.asarray(files)\n",
    "        tpn = true == pred\n",
    "        for dataset in set(files):\n",
    "            mask = files == dataset\n",
    "            logs['acc_'+dataset] = np.sum(tpn[mask])/np.sum(mask)\n",
    "        if verbose:\n",
    "            print(logs.items())"
   ]
  },
  {
   "cell_type": "markdown",
   "metadata": {},
   "source": [
    "## UnderSampling"
   ]
  },
  {
   "cell_type": "code",
   "execution_count": 53,
   "metadata": {},
   "outputs": [],
   "source": [
    "n_estimators = 100\n",
    "verbose = False"
   ]
  },
  {
   "cell_type": "code",
   "execution_count": 54,
   "metadata": {},
   "outputs": [
    {
     "name": "stdout",
     "output_type": "stream",
     "text": [
      "0.5348609044303404\n",
      "0.018994079944363924\n",
      "Posterior Fusion Score:\n",
      "TN:85,FP:31,FN:376,TP:190,Sensitivity:0.335689039412,Specificity0.732758551204,Macc:0.534223795308,F1:0.482841795074\n",
      "[('acc_0', 0.4032258064516129)]\n"
     ]
    },
    {
     "data": {
      "image/png": "[encoded data removed]",
      "text/plain": [
       "<matplotlib.figure.Figure at 0x7f3227311c90>"
      ]
     },
     "metadata": {},
     "output_type": "display_data"
    }
   ],
   "source": [
    "## BOAW\n",
    "\n",
    "np.random.seed(1)\n",
    "rand_states = np.random.randint(20000,size=(n_estimators,))\n",
    "\n",
    "results = []\n",
    "softScores = []\n",
    "\n",
    "for idx,rand_state in enumerate(rand_states):\n",
    "    rus = RandomUnderSampler(random_state=rand_state)    \n",
    "    X,y = rus.fit_resample(X_train[:,:codebook],y_train)\n",
    "#     X = X_train[:,:codebook]\n",
    "#     y = y_train\n",
    "    \n",
    "    clf = NuSVC(kernel='linear',probability=True,verbose=verbose,\n",
    "              random_state=rand_state, nu = .5)\n",
    "    if verbose:\n",
    "        print(\"Training SVM %d\" % idx)\n",
    "    clf.fit(X,y)\n",
    "    \n",
    "    softScores.append(clf.predict_proba(X_val[:,:codebook]))\n",
    "    results.append(verboseMetrics(y_val,softScores[-1],verbose=verbose))\n",
    "    \n",
    "    del clf\n",
    "    \n",
    "print(np.mean(results))\n",
    "print(np.std(results))\n",
    "\n",
    "## Calculate fused posteriors for all the SVMs\n",
    "\n",
    "boaw_posteriors = np.asarray(np.zeros((y_val.shape[0],2)))\n",
    "\n",
    "for each in softScores:\n",
    "    boaw_posteriors+=each\n",
    "print(\"Posterior Fusion Score:\")\n",
    "boaw_posteriors /= n_estimators\n",
    "verboseMetrics(y_val,boaw_posteriors,val_files)\n",
    "\n",
    "## Plot distribution of SVM accuracies\n",
    "\n",
    "sns.distplot(results,20)\n",
    "plt.show()"
   ]
  },
  {
   "cell_type": "code",
   "execution_count": 55,
   "metadata": {},
   "outputs": [
    {
     "name": "stdout",
     "output_type": "stream",
     "text": [
      "0.5058175739348498\n",
      "0.011148757059569468\n",
      "Posterior Fusion Score:\n",
      "TN:2,FP:114,FN:12,TP:554,Sensitivity:0.97879856755,Specificity0.0172413776754,Macc:0.498019972613,F1:0.897887552397\n",
      "[('acc_0', 0.8152492668621701)]\n"
     ]
    },
    {
     "data": {
      "image/png": "[encoded data removed]",
      "text/plain": [
       "<matplotlib.figure.Figure at 0x7f3227255bd0>"
      ]
     },
     "metadata": {},
     "output_type": "display_data"
    }
   ],
   "source": [
    "## Fbank\n",
    "\n",
    "np.random.seed(1)\n",
    "rand_states = np.random.randint(20000,size=(n_estimators,))\n",
    "\n",
    "results = []\n",
    "softScores = []\n",
    "\n",
    "for idx,rand_state in enumerate(rand_states):\n",
    "    rus = RandomUnderSampler(random_state=rand_state)    \n",
    "    X,y = rus.fit_resample(X_train[:,codebook:codebook+2707],y_train)\n",
    "#     X = X_train[:,codebook:codebook+2707]\n",
    "#     y = y_train\n",
    "    \n",
    "    clf = NuSVC(kernel='linear',probability=True,verbose=verbose,\n",
    "              random_state=rand_state, nu = .5)\n",
    "    if verbose:\n",
    "        print(\"Training SVM %d\" % idx)\n",
    "    clf.fit(X,y)\n",
    "    \n",
    "    softScores.append(clf.predict_proba(X_val[:,codebook:codebook+2707]))\n",
    "    results.append(verboseMetrics(y_val,softScores[-1],verbose=verbose))\n",
    "    \n",
    "    del clf\n",
    "    \n",
    "print(np.mean(results))\n",
    "print(np.std(results))\n",
    "\n",
    "## Calculate fused posteriors for all the SVMs\n",
    "\n",
    "fbank_posteriors = np.asarray(np.zeros((y_val.shape[0],2)))\n",
    "\n",
    "for each in softScores:\n",
    "    fbank_posteriors+=each\n",
    "print(\"Posterior Fusion Score:\")\n",
    "fbank_posteriors /= n_estimators\n",
    "verboseMetrics(y_val,fbank_posteriors,val_files)\n",
    "\n",
    "## Plot distribution of SVM accuracies\n",
    "\n",
    "sns.distplot(results,20)\n",
    "plt.show()"
   ]
  },
  {
   "cell_type": "code",
   "execution_count": 56,
   "metadata": {},
   "outputs": [
    {
     "name": "stdout",
     "output_type": "stream",
     "text": [
      "0.49401467831244394\n",
      "0.0076133800230865625\n",
      "Posterior Fusion Score:\n",
      "TN:77,FP:39,FN:383,TP:183,Sensitivity:0.323321548487,Specificity0.663793040502,Macc:0.493557294495,F1:0.46446254031\n",
      "[('acc_0', 0.3812316715542522)]\n"
     ]
    },
    {
     "data": {
      "image/png": "[encoded data removed]",
      "text/plain": [
       "<matplotlib.figure.Figure at 0x7f32273d0290>"
      ]
     },
     "metadata": {},
     "output_type": "display_data"
    }
   ],
   "source": [
    "## Compare\n",
    "\n",
    "\n",
    "np.random.seed(1)\n",
    "rand_states = np.random.randint(20000,size=(n_estimators,))\n",
    "\n",
    "results = []\n",
    "softScores = []\n",
    "\n",
    "for idx,rand_state in enumerate(rand_states):\n",
    "    rus = RandomUnderSampler(random_state=rand_state)    \n",
    "    X,y = rus.fit_resample(X_train[:,codebook+2707:],y_train)\n",
    "#     X = X_train[:,codebook+2707:]\n",
    "#     y = y_train\n",
    "    \n",
    "    clf = NuSVC(kernel='linear',probability=True,verbose=verbose,\n",
    "              random_state=rand_state, nu = .5)\n",
    "    if verbose:\n",
    "        print(\"Training SVM %d\" % idx)\n",
    "    clf.fit(X,y)\n",
    "    \n",
    "    softScores.append(clf.predict_proba(X_val[:,codebook+2707:]))\n",
    "    results.append(verboseMetrics(y_val,softScores[-1],verbose=verbose))\n",
    "    \n",
    "    del clf\n",
    "    \n",
    "print(np.mean(results))\n",
    "print(np.std(results))\n",
    "\n",
    "## Calculate fused posteriors for all the SVMs\n",
    "\n",
    "compare_posteriors = np.asarray(np.zeros((y_val.shape[0],2)))\n",
    "\n",
    "for each in softScores:\n",
    "    compare_posteriors+=each\n",
    "print(\"Posterior Fusion Score:\")\n",
    "compare_posteriors /= n_estimators\n",
    "verboseMetrics(y_val,compare_posteriors,val_files)\n",
    "\n",
    "## Plot distribution of SVM accuracies\n",
    "\n",
    "sns.distplot(results,20)\n",
    "plt.show()"
   ]
  },
  {
   "cell_type": "code",
   "execution_count": 57,
   "metadata": {},
   "outputs": [
    {
     "name": "stdout",
     "output_type": "stream",
     "text": [
      "Validation accuracy Fusion 0.426686\n",
      "TN:85,FP:31,FN:360,TP:206,Sensitivity:0.3639575901,Specificity0.732758551204,Macc:0.548358070652,F1:0.513071374373\n",
      "[('acc_0', 0.42668621700879766)]\n"
     ]
    },
    {
     "data": {
      "text/plain": [
       "0.5483580706518474"
      ]
     },
     "execution_count": 57,
     "metadata": {},
     "output_type": "execute_result"
    }
   ],
   "source": [
    "weights = [.92,.055,.025]\n",
    "\n",
    "fusedSoft = boaw_posteriors*weights[0]+fbank_posteriors*weights[1]+compare_posteriors*weights[2]\n",
    "print(\"Validation accuracy Fusion %f\" % accuracy_score(y_val,\n",
    "                                                            np.argmax(fusedSoft,axis=-1)))\n",
    "verboseMetrics(y_val,fusedSoft,val_files)"
   ]
  },
  {
   "cell_type": "markdown",
   "metadata": {},
   "source": [
    "## OverSampling"
   ]
  },
  {
   "cell_type": "code",
   "execution_count": 58,
   "metadata": {},
   "outputs": [],
   "source": [
    "n_estimators = 5\n",
    "verbose = False"
   ]
  },
  {
   "cell_type": "code",
   "execution_count": 59,
   "metadata": {},
   "outputs": [
    {
     "name": "stdout",
     "output_type": "stream",
     "text": [
      "0.5202570587612934\n",
      "0.009806756002365132\n",
      "Posterior Fusion Score:\n",
      "TN:88,FP:28,FN:402,TP:164,Sensitivity:0.289752644545,Specificity0.758620617717,Macc:0.524186631131,F1:0.432713504541\n",
      "[('acc_0', 0.36950146627565983)]\n"
     ]
    },
    {
     "data": {
      "image/png": "[encoded data removed]",
      "text/plain": [
       "<matplotlib.figure.Figure at 0x7f322b2d4c10>"
      ]
     },
     "metadata": {},
     "output_type": "display_data"
    }
   ],
   "source": [
    "## BOAW\n",
    "\n",
    "np.random.seed(1)\n",
    "rand_states = np.random.randint(20000,size=(n_estimators,))\n",
    "\n",
    "results = []\n",
    "softScores = []\n",
    "\n",
    "for idx,rand_state in enumerate(rand_states):\n",
    "    rus = RandomOverSampler(random_state=rand_state)    \n",
    "    X,y = rus.fit_resample(X_train[:,:codebook],y_train)\n",
    "    \n",
    "    clf = NuSVC(kernel='linear',probability=True,verbose=verbose,\n",
    "              random_state=rand_state, nu = .5)\n",
    "    if verbose:\n",
    "        print(\"Training SVM %d\" % idx)\n",
    "    clf.fit(X,y)\n",
    "    \n",
    "    softScores.append(clf.predict_proba(X_val[:,:codebook]))\n",
    "    results.append(verboseMetrics(y_val,softScores[-1],verbose=verbose))\n",
    "    \n",
    "    del clf\n",
    "    \n",
    "print(np.mean(results))\n",
    "print(np.std(results))\n",
    "\n",
    "## Calculate fused posteriors for all the SVMs\n",
    "\n",
    "boaw_posteriors = np.asarray(np.zeros((y_val.shape[0],2)))\n",
    "\n",
    "for each in softScores:\n",
    "    boaw_posteriors+=each\n",
    "print(\"Posterior Fusion Score:\")\n",
    "boaw_posteriors /= n_estimators\n",
    "verboseMetrics(y_val,boaw_posteriors,val_files)\n",
    "\n",
    "## Plot distribution of SVM accuracies\n",
    "\n",
    "sns.distplot(results,20)\n",
    "plt.show()"
   ]
  },
  {
   "cell_type": "code",
   "execution_count": 60,
   "metadata": {},
   "outputs": [
    {
     "name": "stdout",
     "output_type": "stream",
     "text": [
      "0.49801997261261893\n",
      "0.0038690087781228875\n",
      "Posterior Fusion Score:\n",
      "TN:1,FP:115,FN:4,TP:562,Sensitivity:0.992932842894,Specificity0.00862068883769,Macc:0.500776765866,F1:0.904258405603\n",
      "[('acc_0', 0.8255131964809385)]\n"
     ]
    },
    {
     "data": {
      "image/png": "[encoded data removed]",
      "text/plain": [
       "<matplotlib.figure.Figure at 0x7f322b334fd0>"
      ]
     },
     "metadata": {},
     "output_type": "display_data"
    }
   ],
   "source": [
    "## Fbank\n",
    "\n",
    "np.random.seed(1)\n",
    "rand_states = np.random.randint(20000,size=(n_estimators,))\n",
    "\n",
    "results = []\n",
    "softScores = []\n",
    "\n",
    "for idx,rand_state in enumerate(rand_states):\n",
    "    rus = RandomOverSampler(random_state=rand_state)    \n",
    "    X,y = rus.fit_resample(X_train[:,codebook:codebook+2707],y_train)\n",
    "    \n",
    "    clf = NuSVC(kernel='linear',probability=True,verbose=verbose,\n",
    "              random_state=rand_state, nu = .5)\n",
    "    if verbose:\n",
    "        print(\"Training SVM %d\" % idx)\n",
    "    clf.fit(X,y)\n",
    "    \n",
    "    softScores.append(clf.predict_proba(X_val[:,codebook:codebook+2707]))\n",
    "    results.append(verboseMetrics(y_val,softScores[-1],verbose=verbose))\n",
    "    \n",
    "    del clf\n",
    "    \n",
    "print(np.mean(results))\n",
    "print(np.std(results))\n",
    "\n",
    "## Calculate fused posteriors for all the SVMs\n",
    "\n",
    "fbank_posteriors = np.asarray(np.zeros((y_val.shape[0],2)))\n",
    "\n",
    "for each in softScores:\n",
    "    fbank_posteriors+=each\n",
    "print(\"Posterior Fusion Score:\")\n",
    "fbank_posteriors /= n_estimators\n",
    "verboseMetrics(y_val,fbank_posteriors,val_files)\n",
    "\n",
    "## Plot distribution of SVM accuracies\n",
    "\n",
    "sns.distplot(results,20)\n",
    "plt.show()"
   ]
  },
  {
   "cell_type": "code",
   "execution_count": 61,
   "metadata": {},
   "outputs": [
    {
     "name": "stdout",
     "output_type": "stream",
     "text": [
      "0.4898500912520494\n",
      "0.005215408208449312\n",
      "Posterior Fusion Score:\n",
      "TN:83,FP:33,FN:419,TP:147,Sensitivity:0.25971730944,Specificity0.715517173529,Macc:0.487617241484,F1:0.394097837609\n",
      "[('acc_0', 0.33724340175953077)]\n"
     ]
    },
    {
     "data": {
      "image/png": "[encoded data removed]",
      "text/plain": [
       "<matplotlib.figure.Figure at 0x7f322ad80090>"
      ]
     },
     "metadata": {},
     "output_type": "display_data"
    }
   ],
   "source": [
    "## Compare\n",
    "\n",
    "\n",
    "np.random.seed(1)\n",
    "rand_states = np.random.randint(20000,size=(n_estimators,))\n",
    "\n",
    "results = []\n",
    "softScores = []\n",
    "\n",
    "for idx,rand_state in enumerate(rand_states):\n",
    "    rus = RandomOverSampler(random_state=rand_state)    \n",
    "    X,y = rus.fit_resample(X_train[:,codebook+2707:],y_train)\n",
    "    \n",
    "    clf = NuSVC(kernel='linear',probability=True,verbose=verbose,\n",
    "              random_state=rand_state, nu = .5)\n",
    "    if verbose:\n",
    "        print(\"Training SVM %d\" % idx)\n",
    "    clf.fit(X,y)\n",
    "    \n",
    "    softScores.append(clf.predict_proba(X_val[:,codebook+2707:]))\n",
    "    results.append(verboseMetrics(y_val,softScores[-1],verbose=verbose))\n",
    "    \n",
    "    del clf\n",
    "    \n",
    "print(np.mean(results))\n",
    "print(np.std(results))\n",
    "\n",
    "## Calculate fused posteriors for all the SVMs\n",
    "\n",
    "compare_posteriors = np.asarray(np.zeros((y_val.shape[0],2)))\n",
    "\n",
    "for each in softScores:\n",
    "    compare_posteriors+=each\n",
    "print(\"Posterior Fusion Score:\")\n",
    "compare_posteriors /= n_estimators\n",
    "verboseMetrics(y_val,compare_posteriors,val_files)\n",
    "\n",
    "## Plot distribution of SVM accuracies\n",
    "\n",
    "sns.distplot(results,20)\n",
    "plt.show()"
   ]
  },
  {
   "cell_type": "code",
   "execution_count": 91,
   "metadata": {},
   "outputs": [
    {
     "name": "stdout",
     "output_type": "stream",
     "text": [
      "Validation accuracy Fusion 0.426686\n",
      "TN:72,FP:44,FN:347,TP:219,Sensitivity:0.386925787533,Specificity0.620689596314,Macc:0.503807691924,F1:0.528342627284,AUC:0.539112952358\n",
      "[('acc_0', 0.42668621700879766)]\n"
     ]
    },
    {
     "data": {
      "text/plain": [
       "0.503807691923581"
      ]
     },
     "execution_count": 91,
     "metadata": {},
     "output_type": "execute_result"
    }
   ],
   "source": [
    "weights = [.53,.17,.3]\n",
    "\n",
    "fusedSoft = boaw_posteriors*weights[0]+fbank_posteriors*weights[1]+compare_posteriors*weights[2]\n",
    "print(\"Validation accuracy Fusion %f\" % accuracy_score(y_val,\n",
    "                                                            np.argmax(fusedSoft,axis=-1)))\n",
    "verboseMetrics(y_val,fusedSoft,val_files)"
   ]
  },
  {
   "cell_type": "code",
   "execution_count": null,
   "metadata": {},
   "outputs": [],
   "source": [
    "## Compare\n",
    "\n",
    "np.random.seed(1)\n",
    "rand_states = np.random.randint(20000,size=(n_estimators,))\n",
    "\n",
    "results = []\n",
    "softScores = []\n",
    "\n",
    "for idx,rand_state in enumerate(rand_states):\n",
    "    rus = RandomOverSampler(random_state=rand_state)    \n",
    "    X,y = rus.fit_resample(X_train[:,codebook+2707:],y_train)\n",
    "    \n",
    "    clf = SVC(kernel='linear',probability=True,verbose=verbose=verbose,\n",
    "              random_state=rand_state, C = 1)\n",
    "    if verbose:\n",
    "        print(\"Training SVM %d\" % idx)\n",
    "    clf.fit(X,y)\n",
    "    \n",
    "    softScores.append(clf.predict_proba(X_val[:,codebook+2707:]))\n",
    "    results.append(verboseMetrics(y_val,softScores[-1],verbose))\n",
    "    \n",
    "    del clf\n",
    "    \n",
    "print(np.mean(results))\n",
    "print(np.std(results))\n",
    "\n",
    "## Calculate fused posteriors for all the SVMs\n",
    "\n",
    "compare_posteriors = np.asarray(np.zeros((y_val.shape[0],2)))\n",
    "\n",
    "for each in softScores:\n",
    "    compare_posteriors+=each\n",
    "print(\"Posterior Fusion Score:\")\n",
    "verboseMetrics(y_val,compare_posteriors,val_files)\n",
    "\n",
    "## Plot distribution of SVM accuracies\n",
    "\n",
    "sns.distplot(results,20)\n",
    "plt.show()"
   ]
  }
 ],
 "metadata": {
  "kernelspec": {
   "display_name": "Python 2",
   "language": "python",
   "name": "python2"
  },
  "language_info": {
   "codemirror_mode": {
    "name": "ipython",
    "version": 2
   },
   "file_extension": ".py",
   "mimetype": "text/x-python",
   "name": "python",
   "nbconvert_exporter": "python",
   "pygments_lexer": "ipython2",
   "version": "2.7.12"
  }
 },
 "nbformat": 4,
 "nbformat_minor": 2
}
