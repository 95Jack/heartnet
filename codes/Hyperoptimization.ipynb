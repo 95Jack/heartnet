{
 "cells": [
  {
   "cell_type": "markdown",
   "metadata": {},
   "source": [
    "## Hyperparameter optimization using hyperopt"
   ]
  },
  {
   "cell_type": "code",
   "execution_count": 1,
   "metadata": {},
   "outputs": [
    {
     "name": "stderr",
     "output_type": "stream",
     "text": [
      "Using TensorFlow backend.\n"
     ]
    }
   ],
   "source": [
    "from heartnet_v1 import heartnet, reshape_folds\n",
    "import tables\n",
    "import ast # for list import\n",
    "import numpy as np\n",
    "import matplotlib as mpl\n",
    "import matplotlib.pyplot as plt\n",
    "from keras.losses import binary_crossentropy\n",
    "from keras import backend as K"
   ]
  },
  {
   "cell_type": "code",
   "execution_count": 2,
   "metadata": {},
   "outputs": [],
   "source": [
    "foldname='fold1_noFIR'"
   ]
  },
  {
   "cell_type": "code",
   "execution_count": 72,
   "metadata": {},
   "outputs": [
    {
     "name": "stdout",
     "output_type": "stream",
     "text": [
      "values initialized\n"
     ]
    }
   ],
   "source": [
    "random_seed=1\n",
    "batch_size=64\n",
    "fold_dir='/media/taufiq/Data/heart_sound/feature/potes_1DCNN/balancedCV/folds/'\n",
    "log_dir= '/media/taufiq/Data/heart_sound/Heart_Sound/codes/logs/'\n",
    "bn_momentum = 0.99\n",
    "eps= 1.1e-5\n",
    "bias=False\n",
    "l2_reg=0.\n",
    "l2_reg_dense=0.\n",
    "kernel_size=5\n",
    "maxnorm=10000.\n",
    "dropout_rate=0.5\n",
    "dropout_rate_dense=0.\n",
    "padding='valid'\n",
    "activation_function='relu'\n",
    "subsam=2\n",
    "load_path=False\n",
    "lr=0.0012843784 \n",
    "lr_decay=0.0001132885\n",
    "FIR_train=True\n",
    "num_filt=(8,4)\n",
    "\n",
    "params = dict()\n",
    "print \"values initialized\""
   ]
  },
  {
   "cell_type": "code",
   "execution_count": 4,
   "metadata": {},
   "outputs": [
    {
     "name": "stdout",
     "output_type": "stream",
     "text": [
      "(78021, 2500, 1)\n",
      "(78021, 1)\n",
      "(9834, 2500, 1)\n",
      "(9834, 1)\n",
      "loading complete\n"
     ]
    }
   ],
   "source": [
    "feat = tables.open_file(fold_dir + foldname + '.mat')\n",
    "x_train = feat.root.trainX[:]\n",
    "y_train = feat.root.trainY[0, :]\n",
    "x_val = feat.root.valX[:]\n",
    "y_val = feat.root.valY[0, :]\n",
    "train_parts = feat.root.train_parts[:]\n",
    "val_parts = feat.root.val_parts[0, :]\n",
    "\n",
    "for i in range(0, y_train.shape[0]):\n",
    "    if y_train[i] == -1:\n",
    "        y_train[i] = 0  ## Label 0 for normal 1 for abnormal\n",
    "for i in range(0, y_val.shape[0]):\n",
    "    if y_val[i] == -1:\n",
    "        y_val[i] = 0\n",
    "x_train, y_train, x_val, y_val = reshape_folds(x_train, x_val, y_train, y_val)\n",
    "print \"loading complete\""
   ]
  },
  {
   "cell_type": "code",
   "execution_count": 77,
   "metadata": {},
   "outputs": [],
   "source": [
    "def objective(args):\n",
    "    num_dense = args\n",
    "    print \"num_dense {}\".format(args)\n",
    "    model = heartnet(activation_function, bn_momentum, bias, dropout_rate, dropout_rate_dense,\n",
    "                 eps, kernel_size, l2_reg, l2_reg_dense, load_path, lr, lr_decay, maxnorm,\n",
    "                 padding, random_seed, subsam, num_filt, num_dense, FIR_train)\n",
    "    model.fit(x_train, y_train,\n",
    "          batch_size=256,\n",
    "          epochs=15,\n",
    "          shuffle=True,\n",
    "          verbose=1,\n",
    "          initial_epoch=0)\n",
    "    y_pred = model.predict(x_val)\n",
    "    loss = K.eval(K.mean(K.variable(K.eval(binary_crossentropy(K.variable(y_val),K.variable(y_pred))))))\n",
    "    params[str(num_dense)]=loss\n",
    "    print loss\n",
    "    return loss    "
   ]
  },
  {
   "cell_type": "code",
   "execution_count": null,
   "metadata": {},
   "outputs": [
    {
     "name": "stdout",
     "output_type": "stream",
     "text": [
      "num_dense 21\n",
      "Epoch 1/15\n",
      "78021/78021 [==============================] - 23s 300us/step - loss: 0.3173 - acc: 0.8345\n",
      "Epoch 2/15\n",
      "78021/78021 [==============================] - 19s 237us/step - loss: 0.2686 - acc: 0.8657\n",
      "Epoch 3/15\n",
      "78021/78021 [==============================] - 19s 238us/step - loss: 0.2505 - acc: 0.8845\n",
      "Epoch 4/15\n",
      "78021/78021 [==============================] - 19s 239us/step - loss: 0.2354 - acc: 0.8938\n",
      "Epoch 5/15\n",
      "78021/78021 [==============================] - 19s 239us/step - loss: 0.2269 - acc: 0.8988\n",
      "Epoch 6/15\n",
      "78021/78021 [==============================] - 18s 237us/step - loss: 0.2195 - acc: 0.9018\n",
      "Epoch 7/15\n",
      "78021/78021 [==============================] - 19s 239us/step - loss: 0.2158 - acc: 0.9044\n",
      "Epoch 8/15\n",
      "78021/78021 [==============================] - 19s 240us/step - loss: 0.2116 - acc: 0.90640s - loss: 0.21\n",
      "Epoch 9/15\n",
      "78021/78021 [==============================] - 19s 244us/step - loss: 0.2081 - acc: 0.9077\n",
      "Epoch 10/15\n",
      "78021/78021 [==============================] - 19s 244us/step - loss: 0.2056 - acc: 0.9091\n",
      "Epoch 11/15\n",
      "78021/78021 [==============================] - 19s 243us/step - loss: 0.2038 - acc: 0.9107\n",
      "Epoch 12/15\n",
      "78021/78021 [==============================] - 19s 239us/step - loss: 0.2022 - acc: 0.9105\n",
      "Epoch 13/15\n",
      "78021/78021 [==============================] - 18s 235us/step - loss: 0.2008 - acc: 0.9123\n",
      "Epoch 14/15\n",
      "78021/78021 [==============================] - 19s 238us/step - loss: 0.1978 - acc: 0.9139\n",
      "Epoch 15/15\n",
      "78021/78021 [==============================] - 19s 249us/step - loss: 0.1961 - acc: 0.9149\n",
      "0.371021\n",
      "num_dense 122\n",
      "Epoch 1/15\n",
      "78021/78021 [==============================] - 25s 320us/step - loss: 0.3142 - acc: 0.8534\n",
      "Epoch 2/15\n",
      "78021/78021 [==============================] - 19s 239us/step - loss: 0.2375 - acc: 0.8955\n",
      "Epoch 3/15\n",
      "14592/78021 [====>.........................] - ETA: 15s - loss: 0.2148 - acc: 0.9071"
     ]
    }
   ],
   "source": [
    "from hyperopt import hp, Trials, fmin, tpe\n",
    "trials = Trials()\n",
    "best = fmin(objective,\n",
    "    space=hp.randint('x',400),\n",
    "    algo=tpe.suggest,\n",
    "    max_evals=20,\n",
    "    trials=trials)"
   ]
  },
  {
   "cell_type": "code",
   "execution_count": 75,
   "metadata": {},
   "outputs": [
    {
     "data": {
      "text/plain": [
       "{'170': 0.4816657,\n",
       " '272': 0.47328907,\n",
       " '344': 0.43311101,\n",
       " '37': 0.53506106,\n",
       " '371': 0.47320735,\n",
       " '400': 0.49441531,\n",
       " '459': 8.7024918,\n",
       " '80': 0.48589295}"
      ]
     },
     "execution_count": 75,
     "metadata": {},
     "output_type": "execute_result"
    }
   ],
   "source": [
    "params"
   ]
  }
 ],
 "metadata": {
  "kernelspec": {
   "display_name": "Python 2",
   "language": "python",
   "name": "python2"
  },
  "language_info": {
   "codemirror_mode": {
    "name": "ipython",
    "version": 2
   },
   "file_extension": ".py",
   "mimetype": "text/x-python",
   "name": "python",
   "nbconvert_exporter": "python",
   "pygments_lexer": "ipython2",
   "version": "2.7.12"
  }
 },
 "nbformat": 4,
 "nbformat_minor": 2
}
