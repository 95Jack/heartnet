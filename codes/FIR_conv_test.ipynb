{
 "cells": [
  {
   "cell_type": "code",
   "execution_count": 1,
   "metadata": {},
   "outputs": [
    {
     "name": "stderr",
     "output_type": "stream",
     "text": [
      "Using TensorFlow backend.\n"
     ]
    }
   ],
   "source": [
    "from keras.layers import Conv1D, Input, Activation\n",
    "from keras.models import Model\n",
    "import scipy.signal as sp\n",
    "import numpy as np\n",
    "import tables\n",
    "from scipy.io import wavfile\n",
    "import matplotlib.pyplot as plt"
   ]
  },
  {
   "cell_type": "code",
   "execution_count": 2,
   "metadata": {},
   "outputs": [
    {
     "name": "stdout",
     "output_type": "stream",
     "text": [
      "(61, 1, 1)\n"
     ]
    }
   ],
   "source": [
    "coeff_path='/media/taufiq/Data/heart_sound/feature/filterbankcoeff60.mat'\n",
    "signal_path='/media/taufiq/Data/heart_sound/Heart_Sound/Physionet/training/training-a/a0001.wav'\n",
    "coeff=tables.open_file(coeff_path)\n",
    "b1=coeff.root.b2[:]\n",
    "b1=np.hstack(b1)\n",
    "b1=np.reshape(b1,[b1.shape[0],1,1])\n",
    "print b1.shape\n",
    "fs,data=wavfile.read(signal_path)"
   ]
  },
  {
   "cell_type": "code",
   "execution_count": 3,
   "metadata": {},
   "outputs": [],
   "source": [
    "filtered=sp.filtfilt(b1[:,0,0],[1],data[:2500])"
   ]
  },
  {
   "cell_type": "code",
   "execution_count": 4,
   "metadata": {},
   "outputs": [
    {
     "data": {
      "image/png": "[encoded data removed]",
      "text/plain": [
       "<matplotlib.figure.Figure at 0x7feb0f7ec150>"
      ]
     },
     "metadata": {},
     "output_type": "display_data"
    }
   ],
   "source": [
    "plt.plot(data[:2500],label='Raw data')\n",
    "plt.plot(filtered,label='After FIR1(zero phase)')\n",
    "plt.legend()\n",
    "plt.show()"
   ]
  },
  {
   "cell_type": "code",
   "execution_count": 133,
   "metadata": {},
   "outputs": [],
   "source": [
    "def FIRnet_w_act(input_size):\n",
    "    input1=Input(shape=(input_size,1))\n",
    "    x = Conv1D(1,61,use_bias=False,weights=[b1],padding='same') (input1)\n",
    "    x = Activation(activation='relu') (x)\n",
    "    model =Model(input1,x)\n",
    "    model.compile(optimizer='rmsprop',\n",
    "                  loss='binary_crossentropy',\n",
    "                  metrics=['accuracy'])    \n",
    "    return model"
   ]
  },
  {
   "cell_type": "code",
   "execution_count": 5,
   "metadata": {},
   "outputs": [],
   "source": [
    "def FIRnet(input_size):\n",
    "    input1=Input(shape=(input_size,1))\n",
    "    x = Conv1D(1,61,use_bias=False, weights=[b1])(input1)\n",
    "    model =Model(input1,x)\n",
    "    model.compile(optimizer='rmsprop',\n",
    "                  loss='binary_crossentropy',\n",
    "                  metrics=['accuracy'])    \n",
    "    return model"
   ]
  },
  {
   "cell_type": "code",
   "execution_count": null,
   "metadata": {},
   "outputs": [],
   "source": [
    "model = FIRnet(2500)\n",
    "t = np.reshape(data[:2500],[1,2500,1])\n",
    "new_data_ = model.predict(t)"
   ]
  },
  {
   "cell_type": "code",
   "execution_count": 134,
   "metadata": {},
   "outputs": [],
   "source": [
    "model = FIRnet_w_act(2500)\n",
    "t = np.reshape(data[:2500],[1,2500,1])\n",
    "new_data = model.predict(t)"
   ]
  },
  {
   "cell_type": "code",
   "execution_count": 9,
   "metadata": {},
   "outputs": [
    {
     "ename": "NameError",
     "evalue": "name 'new_data' is not defined",
     "output_type": "error",
     "traceback": [
      "\u001b[0;31m---------------------------------------------------------------------------\u001b[0m",
      "\u001b[0;31mNameError\u001b[0m                                 Traceback (most recent call last)",
      "\u001b[0;32m<ipython-input-9-b76034ae41e0>\u001b[0m in \u001b[0;36m<module>\u001b[0;34m()\u001b[0m\n\u001b[1;32m      1\u001b[0m \u001b[0;31m# plt.plot(new_data[0,:,0],label='After conv')\u001b[0m\u001b[0;34m\u001b[0m\u001b[0;34m\u001b[0m\u001b[0m\n\u001b[0;32m----> 2\u001b[0;31m \u001b[0mplt\u001b[0m\u001b[0;34m.\u001b[0m\u001b[0mplot\u001b[0m\u001b[0;34m(\u001b[0m\u001b[0mnew_data\u001b[0m\u001b[0;34m[\u001b[0m\u001b[0;36m0\u001b[0m\u001b[0;34m,\u001b[0m\u001b[0;34m:\u001b[0m\u001b[0;34m,\u001b[0m\u001b[0;36m0\u001b[0m\u001b[0;34m]\u001b[0m\u001b[0;34m,\u001b[0m\u001b[0mlabel\u001b[0m\u001b[0;34m=\u001b[0m\u001b[0;34m'After conv with zero pad inside'\u001b[0m\u001b[0;34m)\u001b[0m\u001b[0;34m\u001b[0m\u001b[0m\n\u001b[0m\u001b[1;32m      3\u001b[0m \u001b[0mplt\u001b[0m\u001b[0;34m.\u001b[0m\u001b[0mplot\u001b[0m\u001b[0;34m(\u001b[0m\u001b[0mfiltered\u001b[0m\u001b[0;34m,\u001b[0m\u001b[0mlabel\u001b[0m\u001b[0;34m=\u001b[0m\u001b[0;34m'After FIR'\u001b[0m\u001b[0;34m)\u001b[0m\u001b[0;34m\u001b[0m\u001b[0m\n\u001b[1;32m      4\u001b[0m \u001b[0mplt\u001b[0m\u001b[0;34m.\u001b[0m\u001b[0mlegend\u001b[0m\u001b[0;34m(\u001b[0m\u001b[0;34m)\u001b[0m\u001b[0;34m\u001b[0m\u001b[0m\n\u001b[1;32m      5\u001b[0m \u001b[0mplt\u001b[0m\u001b[0;34m.\u001b[0m\u001b[0mshow\u001b[0m\u001b[0;34m(\u001b[0m\u001b[0;34m)\u001b[0m\u001b[0;34m\u001b[0m\u001b[0m\n",
      "\u001b[0;31mNameError\u001b[0m: name 'new_data' is not defined"
     ]
    }
   ],
   "source": [
    "# plt.plot(new_data[0,:,0],label='After conv')\n",
    "plt.plot(new_data[0,:,0],label='After conv with zero pad inside')\n",
    "plt.plot(filtered,label='After FIR')\n",
    "plt.legend()\n",
    "plt.show()"
   ]
  },
  {
   "cell_type": "code",
   "execution_count": null,
   "metadata": {},
   "outputs": [],
   "source": [
    "# plt.plot(new_data[0,:,0],label='After conv')\n",
    "plt.plot(np.pad(new_data_[0,:,0],(30,30),'constant',constant_values=(30, 30)),label='After conv with zero pad')\n",
    "plt.plot(filtered,label='After FIR1 (zero phase)')\n",
    "plt.legend()\n",
    "plt.show()"
   ]
  },
  {
   "cell_type": "code",
   "execution_count": 114,
   "metadata": {},
   "outputs": [
    {
     "name": "stdout",
     "output_type": "stream",
     "text": [
      "Help on function pad in module numpy.lib.arraypad:\n",
      "\n",
      "pad(array, pad_width, mode, **kwargs)\n",
      "    Pads an array.\n",
      "    \n",
      "    Parameters\n",
      "    ----------\n",
      "    array : array_like of rank N\n",
      "        Input array\n",
      "    pad_width : {sequence, array_like, int}\n",
      "        Number of values padded to the edges of each axis.\n",
      "        ((before_1, after_1), ... (before_N, after_N)) unique pad widths\n",
      "        for each axis.\n",
      "        ((before, after),) yields same before and after pad for each axis.\n",
      "        (pad,) or int is a shortcut for before = after = pad width for all\n",
      "        axes.\n",
      "    mode : str or function\n",
      "        One of the following string values or a user supplied function.\n",
      "    \n",
      "        'constant'\n",
      "            Pads with a constant value.\n",
      "        'edge'\n",
      "            Pads with the edge values of array.\n",
      "        'linear_ramp'\n",
      "            Pads with the linear ramp between end_value and the\n",
      "            array edge value.\n",
      "        'maximum'\n",
      "            Pads with the maximum value of all or part of the\n",
      "            vector along each axis.\n",
      "        'mean'\n",
      "            Pads with the mean value of all or part of the\n",
      "            vector along each axis.\n",
      "        'median'\n",
      "            Pads with the median value of all or part of the\n",
      "            vector along each axis.\n",
      "        'minimum'\n",
      "            Pads with the minimum value of all or part of the\n",
      "            vector along each axis.\n",
      "        'reflect'\n",
      "            Pads with the reflection of the vector mirrored on\n",
      "            the first and last values of the vector along each\n",
      "            axis.\n",
      "        'symmetric'\n",
      "            Pads with the reflection of the vector mirrored\n",
      "            along the edge of the array.\n",
      "        'wrap'\n",
      "            Pads with the wrap of the vector along the axis.\n",
      "            The first values are used to pad the end and the\n",
      "            end values are used to pad the beginning.\n",
      "        <function>\n",
      "            Padding function, see Notes.\n",
      "    stat_length : sequence or int, optional\n",
      "        Used in 'maximum', 'mean', 'median', and 'minimum'.  Number of\n",
      "        values at edge of each axis used to calculate the statistic value.\n",
      "    \n",
      "        ((before_1, after_1), ... (before_N, after_N)) unique statistic\n",
      "        lengths for each axis.\n",
      "    \n",
      "        ((before, after),) yields same before and after statistic lengths\n",
      "        for each axis.\n",
      "    \n",
      "        (stat_length,) or int is a shortcut for before = after = statistic\n",
      "        length for all axes.\n",
      "    \n",
      "        Default is ``None``, to use the entire axis.\n",
      "    constant_values : sequence or int, optional\n",
      "        Used in 'constant'.  The values to set the padded values for each\n",
      "        axis.\n",
      "    \n",
      "        ((before_1, after_1), ... (before_N, after_N)) unique pad constants\n",
      "        for each axis.\n",
      "    \n",
      "        ((before, after),) yields same before and after constants for each\n",
      "        axis.\n",
      "    \n",
      "        (constant,) or int is a shortcut for before = after = constant for\n",
      "        all axes.\n",
      "    \n",
      "        Default is 0.\n",
      "    end_values : sequence or int, optional\n",
      "        Used in 'linear_ramp'.  The values used for the ending value of the\n",
      "        linear_ramp and that will form the edge of the padded array.\n",
      "    \n",
      "        ((before_1, after_1), ... (before_N, after_N)) unique end values\n",
      "        for each axis.\n",
      "    \n",
      "        ((before, after),) yields same before and after end values for each\n",
      "        axis.\n",
      "    \n",
      "        (constant,) or int is a shortcut for before = after = end value for\n",
      "        all axes.\n",
      "    \n",
      "        Default is 0.\n",
      "    reflect_type : {'even', 'odd'}, optional\n",
      "        Used in 'reflect', and 'symmetric'.  The 'even' style is the\n",
      "        default with an unaltered reflection around the edge value.  For\n",
      "        the 'odd' style, the extented part of the array is created by\n",
      "        subtracting the reflected values from two times the edge value.\n",
      "    \n",
      "    Returns\n",
      "    -------\n",
      "    pad : ndarray\n",
      "        Padded array of rank equal to `array` with shape increased\n",
      "        according to `pad_width`.\n",
      "    \n",
      "    Notes\n",
      "    -----\n",
      "    .. versionadded:: 1.7.0\n",
      "    \n",
      "    For an array with rank greater than 1, some of the padding of later\n",
      "    axes is calculated from padding of previous axes.  This is easiest to\n",
      "    think about with a rank 2 array where the corners of the padded array\n",
      "    are calculated by using padded values from the first axis.\n",
      "    \n",
      "    The padding function, if used, should return a rank 1 array equal in\n",
      "    length to the vector argument with padded values replaced. It has the\n",
      "    following signature::\n",
      "    \n",
      "        padding_func(vector, iaxis_pad_width, iaxis, **kwargs)\n",
      "    \n",
      "    where\n",
      "    \n",
      "        vector : ndarray\n",
      "            A rank 1 array already padded with zeros.  Padded values are\n",
      "            vector[:pad_tuple[0]] and vector[-pad_tuple[1]:].\n",
      "        iaxis_pad_width : tuple\n",
      "            A 2-tuple of ints, iaxis_pad_width[0] represents the number of\n",
      "            values padded at the beginning of vector where\n",
      "            iaxis_pad_width[1] represents the number of values padded at\n",
      "            the end of vector.\n",
      "        iaxis : int\n",
      "            The axis currently being calculated.\n",
      "        kwargs : misc\n",
      "            Any keyword arguments the function requires.\n",
      "    \n",
      "    Examples\n",
      "    --------\n",
      "    >>> a = [1, 2, 3, 4, 5]\n",
      "    >>> np.lib.pad(a, (2,3), 'constant', constant_values=(4, 6))\n",
      "    array([4, 4, 1, 2, 3, 4, 5, 6, 6, 6])\n",
      "    \n",
      "    >>> np.lib.pad(a, (2, 3), 'edge')\n",
      "    array([1, 1, 1, 2, 3, 4, 5, 5, 5, 5])\n",
      "    \n",
      "    >>> np.lib.pad(a, (2, 3), 'linear_ramp', end_values=(5, -4))\n",
      "    array([ 5,  3,  1,  2,  3,  4,  5,  2, -1, -4])\n",
      "    \n",
      "    >>> np.lib.pad(a, (2,), 'maximum')\n",
      "    array([5, 5, 1, 2, 3, 4, 5, 5, 5])\n",
      "    \n",
      "    >>> np.lib.pad(a, (2,), 'mean')\n",
      "    array([3, 3, 1, 2, 3, 4, 5, 3, 3])\n",
      "    \n",
      "    >>> np.lib.pad(a, (2,), 'median')\n",
      "    array([3, 3, 1, 2, 3, 4, 5, 3, 3])\n",
      "    \n",
      "    >>> a = [[1, 2], [3, 4]]\n",
      "    >>> np.lib.pad(a, ((3, 2), (2, 3)), 'minimum')\n",
      "    array([[1, 1, 1, 2, 1, 1, 1],\n",
      "           [1, 1, 1, 2, 1, 1, 1],\n",
      "           [1, 1, 1, 2, 1, 1, 1],\n",
      "           [1, 1, 1, 2, 1, 1, 1],\n",
      "           [3, 3, 3, 4, 3, 3, 3],\n",
      "           [1, 1, 1, 2, 1, 1, 1],\n",
      "           [1, 1, 1, 2, 1, 1, 1]])\n",
      "    \n",
      "    >>> a = [1, 2, 3, 4, 5]\n",
      "    >>> np.lib.pad(a, (2, 3), 'reflect')\n",
      "    array([3, 2, 1, 2, 3, 4, 5, 4, 3, 2])\n",
      "    \n",
      "    >>> np.lib.pad(a, (2, 3), 'reflect', reflect_type='odd')\n",
      "    array([-1,  0,  1,  2,  3,  4,  5,  6,  7,  8])\n",
      "    \n",
      "    >>> np.lib.pad(a, (2, 3), 'symmetric')\n",
      "    array([2, 1, 1, 2, 3, 4, 5, 5, 4, 3])\n",
      "    \n",
      "    >>> np.lib.pad(a, (2, 3), 'symmetric', reflect_type='odd')\n",
      "    array([0, 1, 1, 2, 3, 4, 5, 5, 6, 7])\n",
      "    \n",
      "    >>> np.lib.pad(a, (2, 3), 'wrap')\n",
      "    array([4, 5, 1, 2, 3, 4, 5, 1, 2, 3])\n",
      "    \n",
      "    >>> def padwithtens(vector, pad_width, iaxis, kwargs):\n",
      "    ...     vector[:pad_width[0]] = 10\n",
      "    ...     vector[-pad_width[1]:] = 10\n",
      "    ...     return vector\n",
      "    \n",
      "    >>> a = np.arange(6)\n",
      "    >>> a = a.reshape((2, 3))\n",
      "    \n",
      "    >>> np.lib.pad(a, 2, padwithtens)\n",
      "    array([[10, 10, 10, 10, 10, 10, 10],\n",
      "           [10, 10, 10, 10, 10, 10, 10],\n",
      "           [10, 10,  0,  1,  2, 10, 10],\n",
      "           [10, 10,  3,  4,  5, 10, 10],\n",
      "           [10, 10, 10, 10, 10, 10, 10],\n",
      "           [10, 10, 10, 10, 10, 10, 10]])\n",
      "\n"
     ]
    }
   ],
   "source": [
    "help(np.pad)"
   ]
  },
  {
   "cell_type": "code",
   "execution_count": null,
   "metadata": {},
   "outputs": [],
   "source": []
  }
 ],
 "metadata": {
  "kernelspec": {
   "display_name": "Python 2",
   "language": "python",
   "name": "python2"
  },
  "language_info": {
   "codemirror_mode": {
    "name": "ipython",
    "version": 2
   },
   "file_extension": ".py",
   "mimetype": "text/x-python",
   "name": "python",
   "nbconvert_exporter": "python",
   "pygments_lexer": "ipython2",
   "version": "2.7.12"
  }
 },
 "nbformat": 4,
 "nbformat_minor": 2
}
