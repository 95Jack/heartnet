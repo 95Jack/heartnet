{
 "cells": [
  {
   "cell_type": "code",
   "execution_count": 1,
   "metadata": {},
   "outputs": [
    {
     "name": "stderr",
     "output_type": "stream",
     "text": [
      "Using TensorFlow backend.\n"
     ]
    }
   ],
   "source": [
    "import numpy as np\n",
    "from scipy import signal \n",
    "import matplotlib.pyplot as plt\n",
    "from potes1DCNN import heartnet"
   ]
  },
  {
   "cell_type": "code",
   "execution_count": 2,
   "metadata": {},
   "outputs": [],
   "source": [
    "##initialize parameters of heartnet\n",
    "bn_momentum = 0.99\n",
    "random_seed = 1\n",
    "eps= 1.1e-5\n",
    "bias=False\n",
    "l2_reg=0.\n",
    "l2_reg_dense=0.\n",
    "kernel_size=5\n",
    "maxnorm=10000.\n",
    "dropout_rate=0.5\n",
    "dropout_rate_dense=0.\n",
    "padding='valid'\n",
    "activation_function='relu'\n",
    "subsam=2\n",
    "\n",
    "lr=0.0007\n",
    "lr_decay=1e-8\n",
    "\n",
    "load_path='/media/taufiq/Data/heart_sound/models/fold2 2017-12-26 15:20:36.867116/weights.0160-0.8652.hdf5'\n",
    "\n",
    "fs = 2000\n"
   ]
  },
  {
   "cell_type": "code",
   "execution_count": 19,
   "metadata": {},
   "outputs": [
    {
     "name": "stdout",
     "output_type": "stream",
     "text": [
      "____________________________________________________________________________________________________\n",
      "Layer (type)                     Output Shape          Param #     Connected to                     \n",
      "====================================================================================================\n",
      "input_5 (InputLayer)             (None, 2500, 1)       0                                            \n",
      "____________________________________________________________________________________________________\n",
      "input_6 (InputLayer)             (None, 2500, 1)       0                                            \n",
      "____________________________________________________________________________________________________\n",
      "input_7 (InputLayer)             (None, 2500, 1)       0                                            \n",
      "____________________________________________________________________________________________________\n",
      "input_8 (InputLayer)             (None, 2500, 1)       0                                            \n",
      "____________________________________________________________________________________________________\n",
      "conv1d_9 (Conv1D)                (None, 2496, 8)       40          input_5[0][0]                    \n",
      "____________________________________________________________________________________________________\n",
      "conv1d_11 (Conv1D)               (None, 2496, 8)       40          input_6[0][0]                    \n",
      "____________________________________________________________________________________________________\n",
      "conv1d_13 (Conv1D)               (None, 2496, 8)       40          input_7[0][0]                    \n",
      "____________________________________________________________________________________________________\n",
      "conv1d_15 (Conv1D)               (None, 2496, 8)       40          input_8[0][0]                    \n",
      "____________________________________________________________________________________________________\n",
      "batch_normalization_9 (BatchNorm (None, 2496, 8)       32          conv1d_9[0][0]                   \n",
      "____________________________________________________________________________________________________\n",
      "batch_normalization_11 (BatchNor (None, 2496, 8)       32          conv1d_11[0][0]                  \n",
      "____________________________________________________________________________________________________\n",
      "batch_normalization_13 (BatchNor (None, 2496, 8)       32          conv1d_13[0][0]                  \n",
      "____________________________________________________________________________________________________\n",
      "batch_normalization_15 (BatchNor (None, 2496, 8)       32          conv1d_15[0][0]                  \n",
      "____________________________________________________________________________________________________\n",
      "activation_9 (Activation)        (None, 2496, 8)       0           batch_normalization_9[0][0]      \n",
      "____________________________________________________________________________________________________\n",
      "activation_11 (Activation)       (None, 2496, 8)       0           batch_normalization_11[0][0]     \n",
      "____________________________________________________________________________________________________\n",
      "activation_13 (Activation)       (None, 2496, 8)       0           batch_normalization_13[0][0]     \n",
      "____________________________________________________________________________________________________\n",
      "activation_15 (Activation)       (None, 2496, 8)       0           batch_normalization_15[0][0]     \n",
      "____________________________________________________________________________________________________\n",
      "dropout_10 (Dropout)             (None, 2496, 8)       0           activation_9[0][0]               \n",
      "____________________________________________________________________________________________________\n",
      "dropout_12 (Dropout)             (None, 2496, 8)       0           activation_11[0][0]              \n",
      "____________________________________________________________________________________________________\n",
      "dropout_14 (Dropout)             (None, 2496, 8)       0           activation_13[0][0]              \n",
      "____________________________________________________________________________________________________\n",
      "dropout_16 (Dropout)             (None, 2496, 8)       0           activation_15[0][0]              \n",
      "____________________________________________________________________________________________________\n",
      "max_pooling1d_9 (MaxPooling1D)   (None, 1248, 8)       0           dropout_10[0][0]                 \n",
      "____________________________________________________________________________________________________\n",
      "max_pooling1d_11 (MaxPooling1D)  (None, 1248, 8)       0           dropout_12[0][0]                 \n",
      "____________________________________________________________________________________________________\n",
      "max_pooling1d_13 (MaxPooling1D)  (None, 1248, 8)       0           dropout_14[0][0]                 \n",
      "____________________________________________________________________________________________________\n",
      "max_pooling1d_15 (MaxPooling1D)  (None, 1248, 8)       0           dropout_16[0][0]                 \n",
      "____________________________________________________________________________________________________\n",
      "conv1d_10 (Conv1D)               (None, 1244, 4)       160         max_pooling1d_9[0][0]            \n",
      "____________________________________________________________________________________________________\n",
      "conv1d_12 (Conv1D)               (None, 1244, 4)       160         max_pooling1d_11[0][0]           \n",
      "____________________________________________________________________________________________________\n",
      "conv1d_14 (Conv1D)               (None, 1244, 4)       160         max_pooling1d_13[0][0]           \n",
      "____________________________________________________________________________________________________\n",
      "conv1d_16 (Conv1D)               (None, 1244, 4)       160         max_pooling1d_15[0][0]           \n",
      "____________________________________________________________________________________________________\n",
      "batch_normalization_10 (BatchNor (None, 1244, 4)       16          conv1d_10[0][0]                  \n",
      "____________________________________________________________________________________________________\n",
      "batch_normalization_12 (BatchNor (None, 1244, 4)       16          conv1d_12[0][0]                  \n",
      "____________________________________________________________________________________________________\n",
      "batch_normalization_14 (BatchNor (None, 1244, 4)       16          conv1d_14[0][0]                  \n",
      "____________________________________________________________________________________________________\n",
      "batch_normalization_16 (BatchNor (None, 1244, 4)       16          conv1d_16[0][0]                  \n",
      "____________________________________________________________________________________________________\n",
      "activation_10 (Activation)       (None, 1244, 4)       0           batch_normalization_10[0][0]     \n",
      "____________________________________________________________________________________________________\n",
      "activation_12 (Activation)       (None, 1244, 4)       0           batch_normalization_12[0][0]     \n",
      "____________________________________________________________________________________________________\n",
      "activation_14 (Activation)       (None, 1244, 4)       0           batch_normalization_14[0][0]     \n",
      "____________________________________________________________________________________________________\n",
      "activation_16 (Activation)       (None, 1244, 4)       0           batch_normalization_16[0][0]     \n",
      "____________________________________________________________________________________________________\n",
      "dropout_11 (Dropout)             (None, 1244, 4)       0           activation_10[0][0]              \n",
      "____________________________________________________________________________________________________\n",
      "dropout_13 (Dropout)             (None, 1244, 4)       0           activation_12[0][0]              \n",
      "____________________________________________________________________________________________________\n",
      "dropout_15 (Dropout)             (None, 1244, 4)       0           activation_14[0][0]              \n",
      "____________________________________________________________________________________________________\n",
      "dropout_17 (Dropout)             (None, 1244, 4)       0           activation_16[0][0]              \n",
      "____________________________________________________________________________________________________\n",
      "max_pooling1d_10 (MaxPooling1D)  (None, 622, 4)        0           dropout_11[0][0]                 \n",
      "____________________________________________________________________________________________________\n",
      "max_pooling1d_12 (MaxPooling1D)  (None, 622, 4)        0           dropout_13[0][0]                 \n",
      "____________________________________________________________________________________________________\n",
      "max_pooling1d_14 (MaxPooling1D)  (None, 622, 4)        0           dropout_15[0][0]                 \n",
      "____________________________________________________________________________________________________\n",
      "max_pooling1d_16 (MaxPooling1D)  (None, 622, 4)        0           dropout_17[0][0]                 \n",
      "____________________________________________________________________________________________________\n",
      "flatten_5 (Flatten)              (None, 2488)          0           max_pooling1d_10[0][0]           \n",
      "____________________________________________________________________________________________________\n",
      "flatten_6 (Flatten)              (None, 2488)          0           max_pooling1d_12[0][0]           \n",
      "____________________________________________________________________________________________________\n",
      "flatten_7 (Flatten)              (None, 2488)          0           max_pooling1d_14[0][0]           \n",
      "____________________________________________________________________________________________________\n",
      "flatten_8 (Flatten)              (None, 2488)          0           max_pooling1d_16[0][0]           \n",
      "____________________________________________________________________________________________________\n",
      "concatenate_2 (Concatenate)      (None, 9952)          0           flatten_5[0][0]                  \n",
      "                                                                   flatten_6[0][0]                  \n",
      "                                                                   flatten_7[0][0]                  \n",
      "                                                                   flatten_8[0][0]                  \n",
      "____________________________________________________________________________________________________\n",
      "dense_3 (Dense)                  (None, 20)            199040      concatenate_2[0][0]              \n",
      "____________________________________________________________________________________________________\n",
      "dropout_18 (Dropout)             (None, 20)            0           dense_3[0][0]                    \n",
      "____________________________________________________________________________________________________\n",
      "dense_4 (Dense)                  (None, 1)             21          dropout_18[0][0]                 \n",
      "====================================================================================================\n",
      "Total params: 200,053\n",
      "Trainable params: 199,957\n",
      "Non-trainable params: 96\n",
      "____________________________________________________________________________________________________\n"
     ]
    }
   ],
   "source": [
    "# create heartnet with load path specified\n",
    "\n",
    "model = heartnet(activation_function,bn_momentum,bias,dropout_rate,dropout_rate_dense,\n",
    "\t\teps,kernel_size,l2_reg,l2_reg_dense,load_path,lr,lr_decay,maxnorm,\n",
    "\t\tpadding,random_seed,subsam)\n",
    "model.summary()\n",
    "weights = model.get_weights()"
   ]
  },
  {
   "cell_type": "code",
   "execution_count": 24,
   "metadata": {},
   "outputs": [],
   "source": [
    "# Specify input layer\n",
    "input_ = 3 # 0-3\n",
    "weights_ = np.hstack(weights[input_])\n",
    "weights_ = np.reshape(weights_,[5,8])"
   ]
  },
  {
   "cell_type": "code",
   "execution_count": 25,
   "metadata": {},
   "outputs": [
    {
     "data": {
      "image/png": "[encoded data removed]",
      "text/plain": [
       "<matplotlib.figure.Figure at 0x7f4530771e90>"
      ]
     },
     "metadata": {},
     "output_type": "display_data"
    }
   ],
   "source": [
    "for i in range(0,8):\n",
    "    w,freq_res=signal.freqz(weights_[:,i])\n",
    "    plt.plot(w/np.pi*1000,10*np.log10(abs(freq_res)/max(abs(freq_res))))\n",
    "plt.grid()\n",
    "plt.xlabel('Frequency (Hz)')\n",
    "plt.ylabel('Amplitude (dB)')\n",
    "plt.xscale('log')\n",
    "plt.title('Filters of input layer ' + np.str(input_))\n",
    "plt.show()"
   ]
  },
  {
   "cell_type": "code",
   "execution_count": 51,
   "metadata": {},
   "outputs": [
    {
     "name": "stdout",
     "output_type": "stream",
     "text": [
      "[2 1]\n"
     ]
    }
   ],
   "source": [
    "a = range(1,3)\n",
    "print np.flip(a,0)"
   ]
  },
  {
   "cell_type": "code",
   "execution_count": null,
   "metadata": {
    "collapsed": true
   },
   "outputs": [],
   "source": []
  }
 ],
 "metadata": {
  "kernelspec": {
   "display_name": "Python 2",
   "language": "python",
   "name": "python2"
  },
  "language_info": {
   "codemirror_mode": {
    "name": "ipython",
    "version": 2
   },
   "file_extension": ".py",
   "mimetype": "text/x-python",
   "name": "python",
   "nbconvert_exporter": "python",
   "pygments_lexer": "ipython2",
   "version": "2.7.12"
  }
 },
 "nbformat": 4,
 "nbformat_minor": 2
}
