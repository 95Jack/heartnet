{
 "cells": [
  {
   "cell_type": "code",
   "execution_count": 1,
   "metadata": {},
   "outputs": [],
   "source": [
    "import pandas as pd\n",
    "import matplotlib as mpl\n",
    "import matplotlib.pyplot as plt\n",
    "import numpy as np"
   ]
  },
  {
   "cell_type": "code",
   "execution_count": 2,
   "metadata": {},
   "outputs": [],
   "source": [
    "read_path='/media/taufiq/Data/heart_sound/Heart_Sound/codes/logs/results.csv'\n",
    "df = pd.read_csv(read_path)"
   ]
  },
  {
   "cell_type": "code",
   "execution_count": 3,
   "metadata": {},
   "outputs": [
    {
     "data": {
      "text/html": [
       "<div>\n",
       "<style scoped>\n",
       "    .dataframe tbody tr th:only-of-type {\n",
       "        vertical-align: middle;\n",
       "    }\n",
       "\n",
       "    .dataframe tbody tr th {\n",
       "        vertical-align: top;\n",
       "    }\n",
       "\n",
       "    .dataframe thead th {\n",
       "        text-align: right;\n",
       "    }\n",
       "</style>\n",
       "<table border=\"1\" class=\"dataframe\">\n",
       "  <thead>\n",
       "    <tr style=\"text-align: right;\">\n",
       "      <th></th>\n",
       "      <th>Filename</th>\n",
       "      <th>Weight Initialization</th>\n",
       "      <th>Activation</th>\n",
       "      <th>Class weights</th>\n",
       "      <th>Kernel Size</th>\n",
       "      <th>Max Norm</th>\n",
       "      <th>Dropout -filters</th>\n",
       "      <th>Dropout - dense</th>\n",
       "      <th>L2 - filters</th>\n",
       "      <th>L2- dense</th>\n",
       "      <th>...</th>\n",
       "      <th>Best Val Acc Per Cardiac Cycle</th>\n",
       "      <th>Epoch</th>\n",
       "      <th>Training Acc per cardiac cycle</th>\n",
       "      <th>Sensitivity</th>\n",
       "      <th>Specificity</th>\n",
       "      <th>Macc</th>\n",
       "      <th>No of Abnormal Strongly Mislabeled</th>\n",
       "      <th>No of Normal Strongly Mislabeled</th>\n",
       "      <th>Comments</th>\n",
       "      <th>folds</th>\n",
       "    </tr>\n",
       "  </thead>\n",
       "  <tbody>\n",
       "    <tr>\n",
       "      <th>0</th>\n",
       "      <td>fold0 2017-12-06 15:22:11</td>\n",
       "      <td>zero</td>\n",
       "      <td>relu-sigmoid</td>\n",
       "      <td>NaN</td>\n",
       "      <td>5</td>\n",
       "      <td>NaN</td>\n",
       "      <td>NaN</td>\n",
       "      <td>0.25</td>\n",
       "      <td>NaN</td>\n",
       "      <td>0.01</td>\n",
       "      <td>...</td>\n",
       "      <td>68.12</td>\n",
       "      <td>68.0</td>\n",
       "      <td>86.68</td>\n",
       "      <td>NaN</td>\n",
       "      <td>NaN</td>\n",
       "      <td>NaN</td>\n",
       "      <td>NaN</td>\n",
       "      <td>NaN</td>\n",
       "      <td>NaN Error</td>\n",
       "      <td>fold0</td>\n",
       "    </tr>\n",
       "    <tr>\n",
       "      <th>1</th>\n",
       "      <td>fold1 2017-12-06 16:54:16</td>\n",
       "      <td>zero</td>\n",
       "      <td>relu-sigmoid</td>\n",
       "      <td>NaN</td>\n",
       "      <td>5</td>\n",
       "      <td>NaN</td>\n",
       "      <td>NaN</td>\n",
       "      <td>0.25</td>\n",
       "      <td>NaN</td>\n",
       "      <td>0.01</td>\n",
       "      <td>...</td>\n",
       "      <td>69.06</td>\n",
       "      <td>46.0</td>\n",
       "      <td>84.88</td>\n",
       "      <td>NaN</td>\n",
       "      <td>NaN</td>\n",
       "      <td>NaN</td>\n",
       "      <td>NaN</td>\n",
       "      <td>NaN</td>\n",
       "      <td>NaN Error</td>\n",
       "      <td>fold1</td>\n",
       "    </tr>\n",
       "    <tr>\n",
       "      <th>2</th>\n",
       "      <td>fold2 2017-12-06 18:05:33.552753</td>\n",
       "      <td>zero</td>\n",
       "      <td>relu-sigmoid</td>\n",
       "      <td>NaN</td>\n",
       "      <td>5</td>\n",
       "      <td>NaN</td>\n",
       "      <td>NaN</td>\n",
       "      <td>0.25</td>\n",
       "      <td>NaN</td>\n",
       "      <td>0.01</td>\n",
       "      <td>...</td>\n",
       "      <td>78.19</td>\n",
       "      <td>29.0</td>\n",
       "      <td>84.48</td>\n",
       "      <td>NaN</td>\n",
       "      <td>NaN</td>\n",
       "      <td>NaN</td>\n",
       "      <td>NaN</td>\n",
       "      <td>NaN</td>\n",
       "      <td>NAN Error</td>\n",
       "      <td>fold2</td>\n",
       "    </tr>\n",
       "    <tr>\n",
       "      <th>3</th>\n",
       "      <td>fold3 2017-12-08 16:06:20.506795</td>\n",
       "      <td>zero</td>\n",
       "      <td>relu-sigmoid</td>\n",
       "      <td>NaN</td>\n",
       "      <td>5</td>\n",
       "      <td>NaN</td>\n",
       "      <td>NaN</td>\n",
       "      <td>0.25</td>\n",
       "      <td>NaN</td>\n",
       "      <td>0.01</td>\n",
       "      <td>...</td>\n",
       "      <td>79.92</td>\n",
       "      <td>21.0</td>\n",
       "      <td>87.28</td>\n",
       "      <td>NaN</td>\n",
       "      <td>NaN</td>\n",
       "      <td>NaN</td>\n",
       "      <td>NaN</td>\n",
       "      <td>NaN</td>\n",
       "      <td>Stooping low, possible NaN error</td>\n",
       "      <td>fold3</td>\n",
       "    </tr>\n",
       "    <tr>\n",
       "      <th>4</th>\n",
       "      <td>fold0 2017-12-11 09:55:04.403236</td>\n",
       "      <td>he_normal</td>\n",
       "      <td>relu-sigmoid</td>\n",
       "      <td>NaN</td>\n",
       "      <td>5</td>\n",
       "      <td>4.0</td>\n",
       "      <td>NaN</td>\n",
       "      <td>0.25</td>\n",
       "      <td>NaN</td>\n",
       "      <td>0.01</td>\n",
       "      <td>...</td>\n",
       "      <td>NaN</td>\n",
       "      <td>NaN</td>\n",
       "      <td>NaN</td>\n",
       "      <td>NaN</td>\n",
       "      <td>NaN</td>\n",
       "      <td>NaN</td>\n",
       "      <td>NaN</td>\n",
       "      <td>NaN</td>\n",
       "      <td>Underfittin, need to increase learning rate</td>\n",
       "      <td>fold0</td>\n",
       "    </tr>\n",
       "  </tbody>\n",
       "</table>\n",
       "<p>5 rows × 26 columns</p>\n",
       "</div>"
      ],
      "text/plain": [
       "                           Filename Weight Initialization    Activation  \\\n",
       "0         fold0 2017-12-06 15:22:11                  zero  relu-sigmoid   \n",
       "1         fold1 2017-12-06 16:54:16                  zero  relu-sigmoid   \n",
       "2  fold2 2017-12-06 18:05:33.552753                  zero  relu-sigmoid   \n",
       "3  fold3 2017-12-08 16:06:20.506795                  zero  relu-sigmoid   \n",
       "4  fold0 2017-12-11 09:55:04.403236             he_normal  relu-sigmoid   \n",
       "\n",
       "  Class weights  Kernel Size  Max Norm  Dropout -filters  Dropout - dense  \\\n",
       "0           NaN            5       NaN               NaN             0.25   \n",
       "1           NaN            5       NaN               NaN             0.25   \n",
       "2           NaN            5       NaN               NaN             0.25   \n",
       "3           NaN            5       NaN               NaN             0.25   \n",
       "4           NaN            5       4.0               NaN             0.25   \n",
       "\n",
       "   L2 - filters  L2- dense  ...    Best Val Acc Per Cardiac Cycle Epoch  \\\n",
       "0           NaN       0.01  ...                             68.12  68.0   \n",
       "1           NaN       0.01  ...                             69.06  46.0   \n",
       "2           NaN       0.01  ...                             78.19  29.0   \n",
       "3           NaN       0.01  ...                             79.92  21.0   \n",
       "4           NaN       0.01  ...                               NaN   NaN   \n",
       "\n",
       "   Training Acc per cardiac cycle  Sensitivity Specificity  Macc  \\\n",
       "0                           86.68          NaN         NaN   NaN   \n",
       "1                           84.88          NaN         NaN   NaN   \n",
       "2                           84.48          NaN         NaN   NaN   \n",
       "3                           87.28          NaN         NaN   NaN   \n",
       "4                             NaN          NaN         NaN   NaN   \n",
       "\n",
       "   No of Abnormal Strongly Mislabeled  No of Normal Strongly Mislabeled  \\\n",
       "0                                 NaN                               NaN   \n",
       "1                                 NaN                               NaN   \n",
       "2                                 NaN                               NaN   \n",
       "3                                 NaN                               NaN   \n",
       "4                                 NaN                               NaN   \n",
       "\n",
       "                                      Comments  folds  \n",
       "0                                    NaN Error  fold0  \n",
       "1                                    NaN Error  fold1  \n",
       "2                                    NAN Error  fold2  \n",
       "3             Stooping low, possible NaN error  fold3  \n",
       "4  Underfittin, need to increase learning rate  fold0  \n",
       "\n",
       "[5 rows x 26 columns]"
      ]
     },
     "execution_count": 3,
     "metadata": {},
     "output_type": "execute_result"
    }
   ],
   "source": [
    "df['folds']=df.Filename.map(lambda x: x.split(' ')[0])\n",
    "df.head()"
   ]
  },
  {
   "cell_type": "code",
   "execution_count": 4,
   "metadata": {},
   "outputs": [
    {
     "data": {
      "text/plain": [
       "68    True\n",
       "69    True\n",
       "70    True\n",
       "71    True\n",
       "72    True\n",
       "Name: folds, dtype: bool"
      ]
     },
     "execution_count": 4,
     "metadata": {},
     "output_type": "execute_result"
    }
   ],
   "source": [
    "mask=df.folds.str.contains('fold2_noFIR')\n",
    "mask.tail()"
   ]
  },
  {
   "cell_type": "code",
   "execution_count": 5,
   "metadata": {},
   "outputs": [],
   "source": [
    "df = df.sort_values('Learning Rate')"
   ]
  },
  {
   "cell_type": "code",
   "execution_count": 6,
   "metadata": {},
   "outputs": [],
   "source": [
    "lr = df['Learning Rate'][mask].values\n",
    "vac = df['Best Val Acc Per Cardiac Cycle'][mask].values/100"
   ]
  },
  {
   "cell_type": "code",
   "execution_count": 28,
   "metadata": {},
   "outputs": [
    {
     "data": {
      "image/png": "[encoded data removed]",
      "text/plain": [
       "<matplotlib.figure.Figure at 0x7fa11492b5d0>"
      ]
     },
     "metadata": {},
     "output_type": "display_data"
    }
   ],
   "source": [
    "mpl.rcParams['figure.figsize']=(30,10)\n",
    "plt.plot(lr,vac,marker='^')\n",
    "# plt.yscale('log')\n",
    "# # plt.xscale('log')\n",
    "# plt.xlim(5E-4,4E-3)\n",
    "# plt.ylim(min(vac),1)\n",
    "plt.xscale('log',nonposy='clip')\n",
    "plt.xlabel('Learning Rate')\n",
    "plt.ylabel('Validation Accuracy')\n",
    "plt.grid()\n",
    "plt.show()"
   ]
  },
  {
   "cell_type": "code",
   "execution_count": 6,
   "metadata": {},
   "outputs": [
    {
     "name": "stdout",
     "output_type": "stream",
     "text": [
      "[[  1.47948020e-07   1.13288457e-04   1.35043973e-04   1.26424085e-09\n",
      "    3.60838896e-04   3.64370734e-06   1.00370928e-09   2.16067495e-09\n",
      "    3.97171549e-08   2.52837028e-06]]\n"
     ]
    }
   ],
   "source": [
    "lr_decay=10**np.random.uniform(-9,-3,(1,10))\n",
    "print lr_decay\n",
    "df = pd.DataFrame(np.hstack(lr_decay),columns={'lr_dec'})\n",
    "df.to_csv('lr_decay.csv',index=False)"
   ]
  }
 ],
 "metadata": {
  "kernelspec": {
   "display_name": "Python 2",
   "language": "python",
   "name": "python2"
  },
  "language_info": {
   "codemirror_mode": {
    "name": "ipython",
    "version": 2
   },
   "file_extension": ".py",
   "mimetype": "text/x-python",
   "name": "python",
   "nbconvert_exporter": "python",
   "pygments_lexer": "ipython2",
   "version": "2.7.12"
  }
 },
 "nbformat": 4,
 "nbformat_minor": 2
}
