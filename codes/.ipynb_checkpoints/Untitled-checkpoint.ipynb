{
 "cells": [
  {
   "cell_type": "code",
   "execution_count": 4,
   "metadata": {},
   "outputs": [],
   "source": [
    "from numpy.random import seed\n",
    "seed(1)\n",
    "import numpy as np\n",
    "import scipy as sp"
   ]
  },
  {
   "cell_type": "code",
   "execution_count": null,
   "metadata": {},
   "outputs": [],
   "source": []
  },
  {
   "cell_type": "code",
   "execution_count": 3,
   "metadata": {},
   "outputs": [
    {
     "name": "stdout",
     "output_type": "stream",
     "text": [
      "Help on built-in function set_state:\n",
      "\n",
      "set_state(...)\n",
      "    set_state(state)\n",
      "    \n",
      "    Set the internal state of the generator from a tuple.\n",
      "    \n",
      "    For use if one has reason to manually (re-)set the internal state of the\n",
      "    \"Mersenne Twister\"[1]_ pseudo-random number generating algorithm.\n",
      "    \n",
      "    Parameters\n",
      "    ----------\n",
      "    state : tuple(str, ndarray of 624 uints, int, int, float)\n",
      "        The `state` tuple has the following items:\n",
      "    \n",
      "        1. the string 'MT19937', specifying the Mersenne Twister algorithm.\n",
      "        2. a 1-D array of 624 unsigned integers ``keys``.\n",
      "        3. an integer ``pos``.\n",
      "        4. an integer ``has_gauss``.\n",
      "        5. a float ``cached_gaussian``.\n",
      "    \n",
      "    Returns\n",
      "    -------\n",
      "    out : None\n",
      "        Returns 'None' on success.\n",
      "    \n",
      "    See Also\n",
      "    --------\n",
      "    get_state\n",
      "    \n",
      "    Notes\n",
      "    -----\n",
      "    `set_state` and `get_state` are not needed to work with any of the\n",
      "    random distributions in NumPy. If the internal state is manually altered,\n",
      "    the user should know exactly what he/she is doing.\n",
      "    \n",
      "    For backwards compatibility, the form (str, array of 624 uints, int) is\n",
      "    also accepted although it is missing some information about the cached\n",
      "    Gaussian value: ``state = ('MT19937', keys, pos)``.\n",
      "    \n",
      "    References\n",
      "    ----------\n",
      "    .. [1] M. Matsumoto and T. Nishimura, \"Mersenne Twister: A\n",
      "       623-dimensionally equidistributed uniform pseudorandom number\n",
      "       generator,\" *ACM Trans. on Modeling and Computer Simulation*,\n",
      "       Vol. 8, No. 1, pp. 3-30, Jan. 1998.\n",
      "\n"
     ]
    }
   ],
   "source": []
  }
 ],
 "metadata": {
  "kernelspec": {
   "display_name": "Python 2",
   "language": "python",
   "name": "python2"
  },
  "language_info": {
   "codemirror_mode": {
    "name": "ipython",
    "version": 2
   },
   "file_extension": ".py",
   "mimetype": "text/x-python",
   "name": "python",
   "nbconvert_exporter": "python",
   "pygments_lexer": "ipython2",
   "version": "2.7.12"
  }
 },
 "nbformat": 4,
 "nbformat_minor": 2
}
